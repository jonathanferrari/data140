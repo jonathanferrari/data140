{
 "cells": [
  {
   "cell_type": "markdown",
   "metadata": {
    "#solution": false,
    "#staff": false,
    "#student": false
   },
   "source": [
    "<table align=\"left\" style=\"border-style: hidden\" class=\"table\"> <tr><td class=\"col-md-2\"><img style=\"float\" src=\"http://prob140.org/assets/icon_sp22_ugarte.png\" alt=\"Prob140 Logo\" style=\"width: 120px;\"/></td><td><div align=\"left\"><h3 style=\"margin-top: 0;\">Probability for Data Science</h3><h4 style=\"margin-top: 20px;\">UC Berkeley, Fall 2022</h4><p>Ani Adhikari</p>CC BY-NC-SA 4.0</div></td></tr></table><!-- not in pdf -->\n",
    "\n",
    "This content is protected and may not be shared, uploaded, or distributed."
   ]
  },
  {
   "cell_type": "code",
   "execution_count": null,
   "metadata": {
    "#solution": false,
    "#staff": false,
    "#student": false
   },
   "outputs": [],
   "source": [
    "from prob140 import *\n",
    "from datascience import *\n",
    "import numpy as np\n",
    "from scipy import special\n",
    "\n",
    "import matplotlib.pyplot as plt\n",
    "%matplotlib inline\n",
    "import matplotlib\n",
    "matplotlib.style.use('fivethirtyeight')"
   ]
  },
  {
   "cell_type": "markdown",
   "metadata": {
    "#solution": false,
    "#staff": false,
    "#student": false
   },
   "source": [
    "# Homework 1 #"
   ]
  },
  {
   "cell_type": "markdown",
   "metadata": {
    "#solution": false,
    "#staff": false,
    "#student": false
   },
   "source": [
    "### Instructions\n",
    "\n",
    "Your homeworks have two components: a written portion and a portion that also involves code.  Written work should be completed on paper, and coding questions should be done in the notebook.  You are welcome to LaTeX your answers to the written portions, but staff will not be able to assist you with LaTeX related issues. It is your responsibility to ensure that both components of the homework are submitted completely and properly to Gradescope. Refer to the bottom of the notebook for submission instructions."
   ]
  },
  {
   "cell_type": "markdown",
   "metadata": {
    "#solution": false,
    "#staff": false,
    "#student": false
   },
   "source": [
    "### How to Do Your Homework ###\n",
    "The point of homework is for you to try your hand at using what you've learned in class. The steps to follow:\n",
    "\n",
    "- Go to lecture and sections, and also go over the relevant text sections before starting on the homework. This will remind you what was covered in class, and the text will typically contain examples not covered in lecture. The weekly Study Guide will list what you should read.\n",
    "- Work on some of the practice problems before starting on the homework.\n",
    "- Attempt the homework problems by yourself with the text, section work, and practice materials all at hand. Sometimes the week's lab will help as well. The two steps above will help this step go faster and be more fruitful.\n",
    "- At this point, seek help if you need it. Don't ask how to do the problem — ask how to get started, or for a nudge to get you past where you are stuck. Always say what you have already tried. That helps us help you more effectively.\n",
    "- For a good measure of your understanding, keep track of the fraction of the homework you can do by yourself or with minimal help. It's a better measure than your homework score, and only you can measure it."
   ]
  },
  {
   "cell_type": "markdown",
   "metadata": {
    "#solution": false,
    "#staff": false,
    "#student": false
   },
   "source": [
    "### Rules for Homework ###\n",
    "- Every answer should contain a calculation or reasoning. For example, a calculation such as $(1/3)(0.8) + (2/3)(0.7)$ or `sum([(1/3)*0.8, (2/3)*0.7])`is fine without further explanation or simplification. If we want you to simplify, we'll ask you to. But just ${5 \\choose 2}$ by itself is not fine; write \"we want any 2 out of the 5 frogs and they can appear in any order\" or whatever reasoning you used. Reasoning can be brief and abbreviated, e.g. \"product rule\" or \"not mutually exclusive.\"\n",
    "- You may consult others (see \"How to Do Your Homework\" above) but you must write up your own answers using your own words, notation, and sequence of steps.\n",
    "- We'll be using Gradescope. You must submit the homework according to the instructions at the end of homework set."
   ]
  },
  {
   "cell_type": "markdown",
   "metadata": {
    "#solution": false,
    "#staff": false,
    "#student": false
   },
   "source": [
    "## 1. Playing to Win\n",
    "\n",
    "This exercise is a workout in the following problem-solving skills.\n",
    "\n",
    "To find the exact chance of an event that involves multiple trials:\n",
    "\n",
    "- Start by asking, \"What does the first trial have to be?\" and then \"What does the second trial have to be?\". If the answers are clear, such as \"win, then lose,\" then the multiplication rule might do the job directly. \n",
    "- But if the answers aren't clear, such as, \"Well, the first trial could be a win, or not, but then the second trial should be a win, or not, but then ...\" then try partitioning the event into simpler pieces (also known as *listing the ways*), or look at the complement. Maybe one of these methods will help you find a solution. Almost always, one of these two is simpler than the other, but which one is simpler depends on the problem.\n",
    "\n",
    "To find an exponential approximation, deeply internalize the subsection headings 1.5.1 through 1.5.4 of [Section 1.5](http://prob140.org/textbook/content/Chapter_01/05_An_Exponential_Approximation.html), and don't forget that $x^m$ is a product when $m$ is a positive integer.\n",
    "\n",
    "Try out these moves in the following setting.\n",
    "\n",
    "A gambler plays two games of chance. Every time she plays Game A, she has chance $\\frac{1}{6n}$ of winning a laptop, regardless of the outcomes of all other games. Every time she plays Game B, she has chance $\\frac{1}{3n}$ of winning a smartphone, regardless of the results of all other games.\n",
    "\n",
    "She has decided on the following strategy.\n",
    "\n",
    "- She keeps playing Game A until either she wins a laptop or she has played Game A $n$ times and has lost every time.\n",
    "- If she wins a laptop she stops playing.\n",
    "- If she loses all $n$ times on Game A, she starts playing Game B. She keeps playing until either she wins a smartphone or she has played Game B $n$ times and has lost every time.\n",
    "\n",
    "**a)** Find the chance that the gambler wins a laptop.\n",
    "\n",
    "**b)** Assume $n$ is large, and find an exponential approximation to the chance in Part **a**.\n",
    "\n",
    "**c)** Find the chance that the gambler wins a laptop or a smartphone.\n",
    "\n",
    "**d)** Assume $n$ is large, and find an exponential approximation to the chance in Part **c**.\n",
    "\n",
    "**e)** In the cell below, write an expression the evaluates to your answer in Part **d**. Use `np.e` for $e$."
   ]
  },
  {
   "cell_type": "code",
   "execution_count": null,
   "metadata": {
    "#solution": false,
    "#staff": false,
    "#student": true
   },
   "outputs": [],
   "source": [
    "# Answer to 1e\n",
    "\n",
    "..."
   ]
  },
  {
   "cell_type": "markdown",
   "metadata": {
    "#solution": false,
    "#staff": false,
    "#student": false
   },
   "source": [
    "#newpage"
   ]
  },
  {
   "cell_type": "markdown",
   "metadata": {
    "#solution": false,
    "#staff": false,
    "#student": false
   },
   "source": [
    "## 2. Fair Coin\n",
    "\n",
    "One of the fundamental models of probability theory is for $n$ tosses of a fair coin, where $n$ is a fixed positive integer. The model says that all sequences that have length $n$ and consist only of heads (H) and tails (T) are equally likely.\n",
    "\n",
    "Unless otherwise specified, coins in this course are assumed to be fair.\n",
    "\n",
    "This exercise is a series of quick observations. Before you start, look over the reference in the Basic Counting section of the [Math Prerequisites](http://prob140.org/prereqs/) page.\n",
    "\n",
    "Suppose you toss a coin $n$ times and note down the sequence of heads (H) and tails (T). \n",
    "\n",
    "Fix an integer $k$ such that $0 \\le k \\le n$.\n",
    "\n",
    "**a)** In total, how many possible sequences are there? How many sequences have $k$ heads? \n",
    "\n",
    "[That means exactly $k$ heads, now and throughout the course. To answer the second question, it might help to imagine that there are $n$ empty spaces and you have to write the letter H in $k$ of them.]\n",
    "\n",
    "**b)** What is the chance that you get $k$ heads in your $n$ tosses? Why?\n",
    "\n",
    "**c)** Does your answer in **b** make sense in the cases $k=0$ and $k=n$? Explain.\n",
    "\n",
    "**d)** `SciPy` is a Python library for scientific computing. You will be using it a lot in this course. In particular, the `special` module of `SciPy` computes combinatorial terms and has been imported in this notebook. \n",
    "\n",
    "To calculate $\\binom{n}{k}$, use `special.comb(n, k)` as in the example below."
   ]
  },
  {
   "cell_type": "code",
   "execution_count": null,
   "metadata": {
    "#solution": false,
    "#staff": false,
    "#student": false
   },
   "outputs": [],
   "source": [
    "# 10 choose 2\n",
    "\n",
    "special.comb(10, 2)"
   ]
  },
  {
   "cell_type": "markdown",
   "metadata": {
    "#solution": false,
    "#staff": false,
    "#student": false
   },
   "source": [
    "Each student in a probability class is asked to toss a coin 20 times and note the number of heads. Six students do this exercise during office hours. What is the chance that none of these six students notes 10 heads?\n",
    "\n",
    "[Review Part **a** for what \"10 heads\" means, and do not import any further libraries.]"
   ]
  },
  {
   "cell_type": "code",
   "execution_count": null,
   "metadata": {
    "#solution": false,
    "#staff": false,
    "#student": true
   },
   "outputs": [],
   "source": [
    "\n",
    "# Answer to 2d\n",
    "\n",
    "..."
   ]
  },
  {
   "cell_type": "markdown",
   "metadata": {
    "#solution": false,
    "#staff": false,
    "#student": false
   },
   "source": [
    "**e)** The calculation of $\\binom{n}{k}$ involves factorials, and factorials get large very quickly. *Stirling's approximation* says that for large $n$\n",
    "\n",
    "$$\n",
    "n! ~ \\sim ~ \\sqrt{2 \\pi n} \\cdot (n/e)^n\n",
    "$$\n",
    "\n",
    "where the symbol $\\sim$ is read as \"is asymptotically equivalent to\" and means that the ratio of the two sides goes to 1 as $n$ tends to $\\infty$.\n",
    "\n",
    "Let $m$ be a positive integer. Use Stirling's formula to approximate the chance of getting $m$ heads in $2m$ tosses of a fair coin, and say what the limit is as $m \\to \\infty$. \n",
    "\n",
    "**f)** The [Law of Averages](https://inferentialthinking.com/chapters/10/1/Empirical_Distributions.html#the-law-of-averages) for fair coins implies that if you keep tossing, then in the long run you get about half heads and half tails. Explain briefly why your answer to **e** doesn't contradict this statement."
   ]
  },
  {
   "cell_type": "markdown",
   "metadata": {
    "#solution": false,
    "#staff": false,
    "#student": false
   },
   "source": [
    "#newpage"
   ]
  },
  {
   "cell_type": "markdown",
   "metadata": {
    "#solution": false,
    "#staff": false,
    "#student": false
   },
   "source": [
    "## 3. Combining Proportions ##\n",
    "\n",
    "The Pew Research Foundation is a \"nonpartisan fact tank\" that conducts numerous careful surveys both nationally and internationally. The data below are from various Pew surveys in 2018 and 2019.\n",
    "\n",
    "Remember the advice to draw diagrams. For the arithmetic, you can use the cell below the question.\n",
    "\n",
    "**a)** In 2018, the adult population of the US was about 8.5 times the adult population of Canada. The percent of adults who didn't own a cell phone was 25% in Canada and only 6% in the US. Suppose you had picked one person at random from the combined adult population in the US and Canada in 2018. Pick the correct option below; if you pick (iii), fill in the blank with the chance.\n",
    "\n",
    "Given that the selected person didn't own a cell phone, the chance that the person was from the US is\n",
    "\n",
    "(i) $\\frac{6}{6+25} \\approx \\frac{1}{5}$\n",
    "\n",
    "(ii) not possible to find based on the information given\n",
    "\n",
    "(iii) neither of the above; the chance is equal to $\\underline{~~~~~~~~~~~~~~~~~~}$\n",
    "\n",
    "**b)** In 2019, the Pew Foundation surveyed US adults to ask if they had read books in print or digital formats in the past 12 months. Of the surveyed adults,\n",
    "- 1% did not respond\n",
    "- 27% responded that they had not read a book in any format in the past 12 months\n",
    "- 65% responded that they had read a print book in the past 12 months\n",
    "- 35% responded that they had read a digital book in the past 12 months\n",
    "\n",
    "Suppose you picked one of the surveyed adults at random. Find the chance that the selected person responded that they had read both a print book and a digital book in the past 12 months, if it is possible to find it based on the information given. If this is not possible, explain why not.\n",
    "\n",
    "**c)** The bar chart below summarizes some other results from the survey in Part **b**. For example, among the surveyed adults who were 50+ years old, 31% had not read a book in any format in the past 12 months.\n",
    "\n",
    "Suppose one of the surveyed adults was picked at random. Answer the following question if it's possible to do so *based on the bar chart alone*. If it's not possible, explain why not. You can assume that everyone's age was recorded in completed years, and that adults are defined as people aged 18+. \n",
    "\n",
    "Given that the selected person had not read a book in any format in the past 12 months, what is the chance that the person was in the 18-49 age group?a\n",
    "\n",
    "<img src=\"hw1_q3chart.png\" width=\"200\"/>\n",
    "\n"
   ]
  },
  {
   "cell_type": "code",
   "execution_count": null,
   "metadata": {
    "#solution": false,
    "#staff": false,
    "#student": false
   },
   "outputs": [],
   "source": [
    "# calculations for Ex 3"
   ]
  },
  {
   "cell_type": "markdown",
   "metadata": {
    "#solution": false,
    "#staff": false,
    "#student": false
   },
   "source": [
    "## Submission Instructions ##\n",
    "\n",
    "Many assignments throughout the course will have a written portion and a code portion. Please follow the directions below to properly submit both portions.\n",
    "\n",
    "### Written Portion ###\n",
    "*  Scan all the pages into a PDF. You can use any scanner or a phone using applications such as CamScanner. Please **DO NOT** simply take pictures using your phone. \n",
    "* Please start a new page for each question. If you have already written multiple questions on the same page, you can crop the image in CamScanner or fold your page over (the old-fashioned way). This helps expedite grading.\n",
    "* It is your responsibility to check that all the work on all the scanned pages is legible.\n",
    "\n",
    "### Code Portion ###\n",
    "* Save your notebook using File > Save and Checkpoint.\n",
    "* Generate a PDF file using File > Download as > PDF via LaTeX. This might take a few seconds and will automatically download a PDF version of this notebook.\n",
    "    * If you have issues, please make a follow-up post on the general HW 1 Ed thread.\n",
    "    \n",
    "### Submitting ###\n",
    "* Combine the PDFs from the written and code portions into one PDF.  [Here](https://smallpdf.com/merge-pdf) is a useful tool for doing so. \n",
    "* Submit the assignment to Homework 1 on Gradescope. \n",
    "* **Make sure to assign each page of your pdf to the correct question.**\n",
    "* **It is your responsibility to verify that all of your work shows up in your final PDF submission.**\n",
    "\n",
    "If you have questions about scanning or uploading your work, please post a follow-up to the [Ed thread](https://edstem.org/us/courses/24954/discussion/1695227) on this topic. "
   ]
  },
  {
   "cell_type": "code",
   "execution_count": null,
   "metadata": {
    "#solution": false,
    "#staff": false,
    "#student": false
   },
   "outputs": [],
   "source": []
  }
 ],
 "metadata": {
  "checksums": [
   "41c7cd602a4412e76fa92693a8966fea",
   "510b88354262c31ba9053a0c05b44859",
   "5277bdbc94775fa2252e6beb176d3807",
   "617e9d925b5fe2cd6a35fdd67bbdf752",
   "e8b146b4314b9ff8608529b2cf2e2d0e",
   "5e382e32f1416ebdbc3411b88ff3b874",
   "b8cb3e29560a2b4af42c265e492d6d92",
   "e07444aa965f00205496cc084dedf5cb",
   "640061103a186fd26f59746dd4d6de57",
   "4d13e70e4559a6ef2b779f1a458d266d",
   "ec9d87a0bbf157dbe0ec88ef1d3e9cb0",
   "dda5a174ba48ad6ff32821d2ad1cd63c",
   "376d7bef42c0ccfac9965ead1d41b736",
   "edd490ff4cb0c40aed8074111c3d88d8",
   "640061103a186fd26f59746dd4d6de57",
   "4a1f75d775be48837961d7e74fec734d",
   "5616843028895257e3b015f0a809840b",
   "964bf4e970d0a7027a1217f1a2070a87",
   "d41d8cd98f00b204e9800998ecf8427e"
  ],
  "kernelspec": {
   "display_name": "Python 3 (ipykernel)",
   "language": "python",
   "name": "python3"
  },
  "language_info": {
   "codemirror_mode": {
    "name": "ipython",
    "version": 3
   },
   "file_extension": ".py",
   "mimetype": "text/x-python",
   "name": "python",
   "nbconvert_exporter": "python",
   "pygments_lexer": "ipython3",
   "version": "3.9.13"
  },
  "number_of_pagebreaks": 2
 },
 "nbformat": 4,
 "nbformat_minor": 2
}
