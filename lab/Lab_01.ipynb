{
 "cells": [
  {
   "cell_type": "markdown",
   "metadata": {
    "#solution": false,
    "#staff": false,
    "#student": false
   },
   "source": [
    "<table align=\"left\" style=\"border-style: hidden\" class=\"table\"> <tr><td class=\"col-md-2\"><img style=\"float\" src=\"http://prob140.org/assets/icon_sp22_ugarte.png\" alt=\"Prob140 Logo\" style=\"width: 120px;\"/></td><td><div align=\"left\"><h3 style=\"margin-top: 0;\">Probability for Data Science</h3><h4 style=\"margin-top: 20px;\">UC Berkeley, Fall 2022</h4><p>Ani Adhikari</p>CC BY-NC-SA 4.0</div></td></tr></table><!-- not in pdf -->\n",
    "\n",
    "This content is protected and may not be shared, uploaded, or distributed."
   ]
  },
  {
   "cell_type": "markdown",
   "metadata": {
    "#solution": false,
    "#staff": false,
    "#student": false
   },
   "source": [
    "# Lab 1: Birthday Attack #\n",
    "Welcome to lab in Data 140! In this first lab you will get acquainted with the computing environment of the course and explore an application of the birthday problem. Specifically, you will:\n",
    "\n",
    "- Review the code used in the textbook to study the birthday problem on Planet Earth\n",
    "- Study the \"birthday paradox\" on Mars (or, if you have a more practical outlook, in hashing collisions), with an exact computation as well as an approximation\n",
    "- See how the title of this lab is actually a thing, not just a cutesy way of getting your attention\n",
    "\n",
    "### Note ###\n",
    "\n",
    "Similar to homework, labs have two components: a written portion and a portion that also involves code. Written work should be completed on paper, and coding questions should be done in the notebook. You are welcome to LaTeX your answers to the written portions, but staff will not be able to assist you with LaTeX related issues. It is your responsibility to ensure that both components of the homework are submitted completely and properly to Gradescope. **Refer to the end of the notebook for submission instructions.**\n",
    "\n",
    "First run the Setup cell below. You can ignore its contents for now if you aren't interested. In future labs, this cell will appear before the start of the lab."
   ]
  },
  {
   "cell_type": "code",
   "execution_count": 1,
   "metadata": {
    "#solution": false,
    "#staff": false,
    "#student": false,
    "execution": {
     "iopub.execute_input": "2022-09-01T23:06:30.631042Z",
     "iopub.status.busy": "2022-09-01T23:06:30.628586Z",
     "iopub.status.idle": "2022-09-01T23:06:35.770413Z",
     "shell.execute_reply": "2022-09-01T23:06:35.769273Z",
     "shell.execute_reply.started": "2022-09-01T23:06:30.630920Z"
    }
   },
   "outputs": [],
   "source": [
    "# SETUP\n",
    "\n",
    "# These lines make warnings go away\n",
    "import warnings\n",
    "warnings.filterwarnings('ignore')\n",
    "\n",
    "# The main libraries\n",
    "import numpy as np\n",
    "from datascience import *\n",
    "from prob140 import *\n",
    "\n",
    "# These lines do some fancy plotting magic\n",
    "import matplotlib\n",
    "%matplotlib inline\n",
    "import matplotlib.pyplot as plt\n",
    "plt.style.use('fivethirtyeight')"
   ]
  },
  {
   "cell_type": "markdown",
   "metadata": {
    "#solution": false,
    "#staff": false,
    "#student": false
   },
   "source": [
    "### Useful Methods ###\n",
    "Because you have only recently returned to school after the break, we are providing a list of some methods that will be useful in the lab. Please consult the one-page [**code reference sheet**](http://prob140.org/assets/final_reference_code_fa18.pdf) in [Resources](http://prob140.org/references/) if you need a reminder of the syntax.\n",
    "\n",
    "For today's lab you will need some or all of:\n",
    "- Array operations and NumPy functions including `item`, `diff`, and `append`\n",
    "- Defining functions: `def`\n",
    "- Conditional statements: `if`/`else`\n",
    "- Iteration: `for` (or any other Python method for iteration)\n",
    "- `Table` methods from the `datascience` library:\n",
    "    - Creation: `with_columns`\n",
    "    - Accessing rows that satisfy a condition: `where`\n",
    "    - Accessing and using values as inputs to a function: `apply`\n",
    "    - Scatter plots: `scatter`\n",
    "- Distribution methods from the `prob140` library, operating on `Table()`:\n",
    "    - Specifying the possible values: `values`\n",
    "    - Specifying the probabilities: `probabilities` or `probability_function`\n",
    "- Visualization methods from the `prob140` library:\n",
    "    - Probability histogram of an integer-valued random variable: `Plot`\n",
    "    - Overlaid probability histograms of two integer-valued random variables: `Plots`"
   ]
  },
  {
   "cell_type": "markdown",
   "metadata": {
    "#solution": false,
    "#staff": false,
    "#student": false
   },
   "source": [
    "## Identify Your Lab Partner ##"
   ]
  },
  {
   "cell_type": "markdown",
   "metadata": {
    "#solution": false,
    "#staff": false,
    "#student": false
   },
   "source": [
    "This is a multiple choice question. Please select **ONE** of following options that best describes how you complete lab 1.\n",
    "\n",
    "* I am doing Part A of this lab by myself and I don't have a partner.\n",
    "* My partner for Part A of this lab is [NAME] with email [berkeley.edu email address]. [NAME] will submit for both of us on Gradescope.\n",
    "\n",
    "Please copy and paste **ONE** of above statements and fill in blanks if needed. If you work with a partner, make sure only one of you submit on Gradescope."
   ]
  },
  {
   "cell_type": "markdown",
   "metadata": {
    "#solution": false,
    "#staff": false,
    "#student": false
   },
   "source": [
    "My partner for Part A of this lab is **Jessica Golden** with email **jessicagolden@berkeley.edu** [NAME] will submit for both of us on Gradescope."
   ]
  },
  {
   "cell_type": "markdown",
   "metadata": {
    "#solution": false,
    "#staff": false,
    "#student": false
   },
   "source": [
    "#newpage"
   ]
  },
  {
   "cell_type": "markdown",
   "metadata": {
    "#solution": false,
    "#staff": false,
    "#student": false
   },
   "source": [
    "## Part 1: Birthday Paradox on Earth ##\n",
    "In this part you will review the code used in the textbook to study the birthday problem on Planet Earth.\n",
    "\n",
    "[As you have seen](http://prob140.org/textbook/content/Chapter_01/04_Birthday_Problem.html#The-Birthday-Problem), the setting of the birthday problem is a special case of $n$ draws made at random with replacement from the set of integers $1, 2, 3, \\ldots, N$. \n",
    "\n",
    "In the context of birthdays on Earth, this corresponds to two simplifying assumptions about $n$ people:\n",
    "- Each year has 365 days; $N = 365$\n",
    "- Each person is equally likely to be born on each of the 365 days, regardless of the birthdays of all others\n",
    "\n",
    "The main question is, \"What is the chance that among the $n$ people there is at least one pair whose birthdays are the same?\" \n",
    "\n",
    "In the context of hashing, the question is, \"If you assign each of $n$ individuals one of $N$ hash values chosen at random, what is the chance of at least one collision?\" \n",
    "\n",
    "Start out by setting $N = 365$. Run the cell or it won't get set. After this, we won't keep reminding you to run cells."
   ]
  },
  {
   "cell_type": "code",
   "execution_count": 2,
   "metadata": {
    "#solution": false,
    "#staff": false,
    "#student": false,
    "execution": {
     "iopub.execute_input": "2022-09-01T23:06:35.773735Z",
     "iopub.status.busy": "2022-09-01T23:06:35.771659Z",
     "iopub.status.idle": "2022-09-01T23:06:35.789797Z",
     "shell.execute_reply": "2022-09-01T23:06:35.780963Z",
     "shell.execute_reply.started": "2022-09-01T23:06:35.773640Z"
    }
   },
   "outputs": [],
   "source": [
    "N = 365"
   ]
  },
  {
   "cell_type": "markdown",
   "metadata": {
    "#solution": false,
    "#staff": false,
    "#student": false
   },
   "source": [
    "### 1a) ###\n",
    "Let $D_n$ be the event that all $n$ birthdays are different, that is, the event that there is no match. You have seen that\n",
    "$$\n",
    "P(D_n) ~ = ~ \\prod_{i=0}^{n-1} \\frac{365 - i}{365}\n",
    "$$\n",
    "\n",
    "Notice that $P(D_1) = 1$. There is certain to be no match if there is only one birthday, because there is nothing it can be matched with.\n",
    "\n",
    "Notice also that the computation labels the $n$ people as $0, 1, 2, \\ldots, n-1$, which makes Python's 0-origin indexing rather convenient. \n",
    "\n",
    "Let's brush off any cobwebs that might have gathered on your programming skills over the holidays. Run the cells below and observe the output carefully."
   ]
  },
  {
   "cell_type": "code",
   "execution_count": 3,
   "metadata": {
    "#solution": false,
    "#staff": false,
    "#student": false,
    "execution": {
     "iopub.execute_input": "2022-09-01T23:06:35.800275Z",
     "iopub.status.busy": "2022-09-01T23:06:35.797937Z",
     "iopub.status.idle": "2022-09-01T23:06:35.916296Z",
     "shell.execute_reply": "2022-09-01T23:06:35.908211Z",
     "shell.execute_reply.started": "2022-09-01T23:06:35.800221Z"
    }
   },
   "outputs": [
    {
     "data": {
      "text/plain": [
       "array([0, 1, 2, 3, 4])"
      ]
     },
     "execution_count": 3,
     "metadata": {},
     "output_type": "execute_result"
    }
   ],
   "source": [
    "n = 5\n",
    "individuals = np.arange(n)\n",
    "individuals"
   ]
  },
  {
   "cell_type": "code",
   "execution_count": 4,
   "metadata": {
    "#solution": false,
    "#staff": false,
    "#student": false,
    "execution": {
     "iopub.execute_input": "2022-09-01T23:06:35.936650Z",
     "iopub.status.busy": "2022-09-01T23:06:35.933619Z",
     "iopub.status.idle": "2022-09-01T23:06:35.974451Z",
     "shell.execute_reply": "2022-09-01T23:06:35.970545Z",
     "shell.execute_reply.started": "2022-09-01T23:06:35.936612Z"
    }
   },
   "outputs": [
    {
     "data": {
      "text/plain": [
       "array([365, 364, 363, 362, 361])"
      ]
     },
     "execution_count": 4,
     "metadata": {},
     "output_type": "execute_result"
    }
   ],
   "source": [
    "N - individuals"
   ]
  },
  {
   "cell_type": "code",
   "execution_count": 5,
   "metadata": {
    "#solution": false,
    "#staff": false,
    "#student": false,
    "execution": {
     "iopub.execute_input": "2022-09-01T23:06:35.995149Z",
     "iopub.status.busy": "2022-09-01T23:06:35.977923Z",
     "iopub.status.idle": "2022-09-01T23:06:36.049179Z",
     "shell.execute_reply": "2022-09-01T23:06:36.040870Z",
     "shell.execute_reply.started": "2022-09-01T23:06:35.995087Z"
    }
   },
   "outputs": [
    {
     "data": {
      "text/plain": [
       "array([1.        , 0.99726027, 0.99452055, 0.99178082, 0.9890411 ])"
      ]
     },
     "execution_count": 5,
     "metadata": {},
     "output_type": "execute_result"
    }
   ],
   "source": [
    "(N - individuals)/N"
   ]
  },
  {
   "cell_type": "code",
   "execution_count": 6,
   "metadata": {
    "#solution": false,
    "#staff": false,
    "#student": false,
    "execution": {
     "iopub.execute_input": "2022-09-01T23:06:36.055854Z",
     "iopub.status.busy": "2022-09-01T23:06:36.054930Z",
     "iopub.status.idle": "2022-09-01T23:06:36.080030Z",
     "shell.execute_reply": "2022-09-01T23:06:36.075901Z",
     "shell.execute_reply.started": "2022-09-01T23:06:36.055822Z"
    }
   },
   "outputs": [
    {
     "data": {
      "text/plain": [
       "0.9728644263002065"
      ]
     },
     "execution_count": 6,
     "metadata": {},
     "output_type": "execute_result"
    }
   ],
   "source": [
    "np.prod( (N - individuals)/N )"
   ]
  },
  {
   "cell_type": "markdown",
   "metadata": {
    "#solution": false,
    "#staff": false,
    "#student": false
   },
   "source": [
    "### 1b) ###\n",
    "Use the sequence of steps in 1a to define a function `p_no_match` that takes $n$ as its argument and returns $P(D_n)$, assuming the fixed value $N = 365$."
   ]
  },
  {
   "cell_type": "code",
   "execution_count": 7,
   "metadata": {
    "#solution": false,
    "#staff": false,
    "#student": true,
    "execution": {
     "iopub.execute_input": "2022-09-01T23:06:36.084542Z",
     "iopub.status.busy": "2022-09-01T23:06:36.083378Z",
     "iopub.status.idle": "2022-09-01T23:06:36.095328Z",
     "shell.execute_reply": "2022-09-01T23:06:36.091555Z",
     "shell.execute_reply.started": "2022-09-01T23:06:36.084506Z"
    },
    "tags": []
   },
   "outputs": [],
   "source": [
    "def p_no_match(n):\n",
    "    return np.prod((365 - np.arange(n))/365)"
   ]
  },
  {
   "cell_type": "markdown",
   "metadata": {
    "#solution": false,
    "#staff": false,
    "#student": false
   },
   "source": [
    "### 1c) ###\n",
    "Based on what you saw in class about the birthdays of 23 people, $P(D_{23})$ should be\n",
    "\n",
    "(i) a bit less than 1/2 $~~~~~~~~~~$ (ii) 1/2 $~~~~~~~~~~$ (iii) a bit more than 1/2\n",
    "\n",
    "Pick the right option and explain without computation."
   ]
  },
  {
   "cell_type": "markdown",
   "metadata": {
    "#solution": false,
    "#staff": false,
    "#student": true
   },
   "source": [
    "Answer: _(i) a bit less than $\\frac{1}{2}$_\n",
    "Reasoning: "
   ]
  },
  {
   "cell_type": "markdown",
   "metadata": {
    "#solution": false,
    "#staff": false,
    "#student": false
   },
   "source": [
    "Confirm your answer in the cell below."
   ]
  },
  {
   "cell_type": "code",
   "execution_count": 8,
   "metadata": {
    "#solution": false,
    "#staff": false,
    "#student": true,
    "execution": {
     "iopub.execute_input": "2022-09-01T23:06:36.098751Z",
     "iopub.status.busy": "2022-09-01T23:06:36.097893Z",
     "iopub.status.idle": "2022-09-01T23:06:36.114657Z",
     "shell.execute_reply": "2022-09-01T23:06:36.111915Z",
     "shell.execute_reply.started": "2022-09-01T23:06:36.098707Z"
    },
    "tags": []
   },
   "outputs": [
    {
     "data": {
      "text/plain": [
       "0.4927027656760144"
      ]
     },
     "execution_count": 8,
     "metadata": {},
     "output_type": "execute_result"
    }
   ],
   "source": [
    "p_no_match(23)"
   ]
  },
  {
   "cell_type": "markdown",
   "metadata": {
    "#solution": false,
    "#staff": false,
    "#student": false
   },
   "source": [
    "### 1d) ###\n",
    "\n",
    "The birthday problem is only interesting for $1 \\le n \\le N$, because for larger $n$ it's clear that $P(D_n)$ must be 0. Use a table to display your value of $P(D_n)$ for every $n$ in the range 1 through $N$, in the following steps.\n",
    "\n",
    "The next cell sets up a table of all the possible numbers of people."
   ]
  },
  {
   "cell_type": "code",
   "execution_count": 9,
   "metadata": {
    "#solution": false,
    "#staff": false,
    "#student": false,
    "execution": {
     "iopub.execute_input": "2022-09-01T23:06:36.117742Z",
     "iopub.status.busy": "2022-09-01T23:06:36.116917Z",
     "iopub.status.idle": "2022-09-01T23:06:36.131162Z",
     "shell.execute_reply": "2022-09-01T23:06:36.129049Z",
     "shell.execute_reply.started": "2022-09-01T23:06:36.117710Z"
    }
   },
   "outputs": [
    {
     "data": {
      "text/html": [
       "<table border=\"1\" class=\"dataframe\">\n",
       "    <thead>\n",
       "        <tr>\n",
       "            <th>People</th>\n",
       "        </tr>\n",
       "    </thead>\n",
       "    <tbody>\n",
       "        <tr>\n",
       "            <td>1     </td>\n",
       "        </tr>\n",
       "        <tr>\n",
       "            <td>2     </td>\n",
       "        </tr>\n",
       "        <tr>\n",
       "            <td>3     </td>\n",
       "        </tr>\n",
       "        <tr>\n",
       "            <td>4     </td>\n",
       "        </tr>\n",
       "        <tr>\n",
       "            <td>5     </td>\n",
       "        </tr>\n",
       "        <tr>\n",
       "            <td>6     </td>\n",
       "        </tr>\n",
       "        <tr>\n",
       "            <td>7     </td>\n",
       "        </tr>\n",
       "        <tr>\n",
       "            <td>8     </td>\n",
       "        </tr>\n",
       "        <tr>\n",
       "            <td>9     </td>\n",
       "        </tr>\n",
       "        <tr>\n",
       "            <td>10    </td>\n",
       "        </tr>\n",
       "    </tbody>\n",
       "</table>\n",
       "<p>... (355 rows omitted)</p>"
      ],
      "text/plain": [
       "People\n",
       "1\n",
       "2\n",
       "3\n",
       "4\n",
       "5\n",
       "6\n",
       "7\n",
       "8\n",
       "9\n",
       "10\n",
       "... (355 rows omitted)"
      ]
     },
     "execution_count": 9,
     "metadata": {},
     "output_type": "execute_result"
    }
   ],
   "source": [
    "birthday_probs = Table().with_columns('People', np.arange(1, N+1))\n",
    "birthday_probs"
   ]
  },
  {
   "cell_type": "markdown",
   "metadata": {
    "#solution": false,
    "#staff": false,
    "#student": false
   },
   "source": [
    "Create an array called `all_different` that contains $P(D_n)$ for each $n$ in the range 1 through $N$.\n",
    "\n",
    "You will need the Table method ``apply`` that applies a function to a specified column in each row of a table."
   ]
  },
  {
   "cell_type": "code",
   "execution_count": 10,
   "metadata": {
    "#solution": false,
    "#staff": false,
    "#student": true,
    "execution": {
     "iopub.execute_input": "2022-09-01T23:06:36.135202Z",
     "iopub.status.busy": "2022-09-01T23:06:36.133922Z",
     "iopub.status.idle": "2022-09-01T23:06:36.157405Z",
     "shell.execute_reply": "2022-09-01T23:06:36.156329Z",
     "shell.execute_reply.started": "2022-09-01T23:06:36.135050Z"
    },
    "tags": []
   },
   "outputs": [],
   "source": [
    "all_different = birthday_probs.apply(p_no_match, 0)"
   ]
  },
  {
   "cell_type": "markdown",
   "metadata": {
    "#solution": false,
    "#staff": false,
    "#student": false
   },
   "source": [
    "Which item of `all_different` corresponds to 23 people? That item of `all_different` should agree with 1c; check this!"
   ]
  },
  {
   "cell_type": "code",
   "execution_count": 11,
   "metadata": {
    "#solution": false,
    "#staff": false,
    "#student": true,
    "execution": {
     "iopub.execute_input": "2022-09-01T23:06:36.161981Z",
     "iopub.status.busy": "2022-09-01T23:06:36.159706Z",
     "iopub.status.idle": "2022-09-01T23:06:36.192287Z",
     "shell.execute_reply": "2022-09-01T23:06:36.189254Z",
     "shell.execute_reply.started": "2022-09-01T23:06:36.161936Z"
    },
    "tags": []
   },
   "outputs": [
    {
     "data": {
      "text/plain": [
       "0.4927027656760144"
      ]
     },
     "execution_count": 11,
     "metadata": {},
     "output_type": "execute_result"
    }
   ],
   "source": [
    "all_different.item(22)"
   ]
  },
  {
   "cell_type": "markdown",
   "metadata": {
    "#solution": false,
    "#staff": false,
    "#student": false
   },
   "source": [
    "Augment `birthday_probs` with two columns \n",
    "- one labeled ``P(no match)``; in the row corresponding to $n$ people, the column should contain $P(D_n)$\n",
    "- one labeled ``P(at least one match)``; in the row corresponding to $n$ people, the column should contain $P(\\text{at least one match among the n birthdays})$"
   ]
  },
  {
   "cell_type": "code",
   "execution_count": 12,
   "metadata": {
    "#solution": false,
    "#staff": false,
    "#student": true,
    "execution": {
     "iopub.execute_input": "2022-09-01T23:06:36.201026Z",
     "iopub.status.busy": "2022-09-01T23:06:36.196571Z",
     "iopub.status.idle": "2022-09-01T23:06:36.216844Z",
     "shell.execute_reply": "2022-09-01T23:06:36.214811Z",
     "shell.execute_reply.started": "2022-09-01T23:06:36.200974Z"
    },
    "tags": []
   },
   "outputs": [
    {
     "data": {
      "text/html": [
       "<table border=\"1\" class=\"dataframe\">\n",
       "    <thead>\n",
       "        <tr>\n",
       "            <th>People</th> <th>P(no match)</th> <th>P(at least one match)</th>\n",
       "        </tr>\n",
       "    </thead>\n",
       "    <tbody>\n",
       "        <tr>\n",
       "            <td>1     </td> <td>1          </td> <td>0                    </td>\n",
       "        </tr>\n",
       "        <tr>\n",
       "            <td>2     </td> <td>0.99726    </td> <td>0.00273973           </td>\n",
       "        </tr>\n",
       "        <tr>\n",
       "            <td>3     </td> <td>0.991796   </td> <td>0.00820417           </td>\n",
       "        </tr>\n",
       "        <tr>\n",
       "            <td>4     </td> <td>0.983644   </td> <td>0.0163559            </td>\n",
       "        </tr>\n",
       "        <tr>\n",
       "            <td>5     </td> <td>0.972864   </td> <td>0.0271356            </td>\n",
       "        </tr>\n",
       "        <tr>\n",
       "            <td>6     </td> <td>0.959538   </td> <td>0.0404625            </td>\n",
       "        </tr>\n",
       "        <tr>\n",
       "            <td>7     </td> <td>0.943764   </td> <td>0.0562357            </td>\n",
       "        </tr>\n",
       "        <tr>\n",
       "            <td>8     </td> <td>0.925665   </td> <td>0.0743353            </td>\n",
       "        </tr>\n",
       "        <tr>\n",
       "            <td>9     </td> <td>0.905376   </td> <td>0.0946238            </td>\n",
       "        </tr>\n",
       "        <tr>\n",
       "            <td>10    </td> <td>0.883052   </td> <td>0.116948             </td>\n",
       "        </tr>\n",
       "    </tbody>\n",
       "</table>\n",
       "<p>... (355 rows omitted)</p>"
      ],
      "text/plain": [
       "People | P(no match) | P(at least one match)\n",
       "1      | 1           | 0\n",
       "2      | 0.99726     | 0.00273973\n",
       "3      | 0.991796    | 0.00820417\n",
       "4      | 0.983644    | 0.0163559\n",
       "5      | 0.972864    | 0.0271356\n",
       "6      | 0.959538    | 0.0404625\n",
       "7      | 0.943764    | 0.0562357\n",
       "8      | 0.925665    | 0.0743353\n",
       "9      | 0.905376    | 0.0946238\n",
       "10     | 0.883052    | 0.116948\n",
       "... (355 rows omitted)"
      ]
     },
     "execution_count": 12,
     "metadata": {},
     "output_type": "execute_result"
    }
   ],
   "source": [
    "birthday_probs = birthday_probs.with_columns(\n",
    "    \"P(no match)\", all_different,\n",
    "    \"P(at least one match)\", 1 - all_different\n",
    ")\n",
    "\n",
    "birthday_probs"
   ]
  },
  {
   "cell_type": "markdown",
   "metadata": {
    "#solution": false,
    "#staff": false,
    "#student": false
   },
   "source": [
    "Compare with the `results` table in [Section 1.4](http://prob140.org/textbook/content/Chapter_01/04_Birthday_Problem.html) of the Data 140 textbook. It should be the same apart from column labels. "
   ]
  },
  {
   "cell_type": "markdown",
   "metadata": {
    "#solution": false,
    "#staff": false,
    "#student": false
   },
   "source": [
    "### 1e) ###\n",
    "Now visualize the \"birthday paradox\". Draw the scatter plot of `P(at least one match)` versus `People`. \n",
    "\n",
    "In the cell below, we have restricted the values of `People` to just the range where there is visible change in the probability being plotted. And we have drawn a horizontal line at the level 1/2. The code for the graphics is briefly explained in the comments. The final semi-colon prevents some unnecessary text output from `matplotlib`."
   ]
  },
  {
   "cell_type": "code",
   "execution_count": 14,
   "metadata": {
    "#solution": false,
    "#staff": false,
    "#student": true,
    "execution": {
     "iopub.execute_input": "2022-09-01T23:12:43.075495Z",
     "iopub.status.busy": "2022-09-01T23:12:43.074684Z",
     "iopub.status.idle": "2022-09-01T23:12:43.612098Z",
     "shell.execute_reply": "2022-09-01T23:12:43.606057Z",
     "shell.execute_reply.started": "2022-09-01T23:12:43.075403Z"
    },
    "tags": []
   },
   "outputs": [
    {
     "data": {
      "image/png": "[encoded data removed]",
      "text/plain": [
       "<Figure size 432x288 with 1 Axes>"
      ]
     },
     "metadata": {},
     "output_type": "display_data"
    }
   ],
   "source": [
    "plt.scatter(x = birthday_probs[\"People\"], y = birthday_probs[\"P(at least one match)\"])\n",
    "\n",
    "# Everything below this line is for fine-tuning the graphics.\n",
    "# There is nothing for you to enter below this line.\n",
    "\n",
    "# plt is short for matplotlib.pyplot; see the import cell at the top\n",
    "\n",
    "plt.xlim(0, 70)     # restrict trials to at most 70\n",
    "\n",
    "plt.ylim(0, 1)      # use the probability scale on the vertical axis\n",
    "\n",
    "# Draw a red horizontal line at level 1/2\n",
    "# plt.plot joins the dots between the two points (x_1, y_1) and (x_2, y_2)\n",
    "# Arguments: [x_1, x_2], [y_1, y_2], color=, and lw=\n",
    "# That last one is line width. Bigger values produce thicker lines.\n",
    "\n",
    "plt.plot([0, 70], [0.5, 0.5], color='red', lw=1);"
   ]
  },
  {
   "cell_type": "markdown",
   "metadata": {
    "#solution": false,
    "#staff": false,
    "#student": false
   },
   "source": [
    "Use the graph to indentify the smallest number of people at which $P(\\mbox{at least one match})$ exceeds 1/2."
   ]
  },
  {
   "cell_type": "markdown",
   "metadata": {
    "#solution": false,
    "#staff": false,
    "#student": true
   },
   "source": [
    "23"
   ]
  },
  {
   "cell_type": "markdown",
   "metadata": {
    "#solution": false,
    "#staff": false,
    "#student": false
   },
   "source": [
    "## Part 2: Birthday Paradox (Martian Edition) ##\n",
    "Now suppose you're a Martian. Then one year on your planet is 687 days long. Or in general, suppose you're from a planet whose year has $N$ days. The goal of this part is to answer the following question:\n",
    "\n",
    "For a year of length $N$, what is the smallest number of individuals so that the chance of a match among those individuals is at least half?\n",
    "\n",
    "In terms of a hash table with $N$ values, you are trying to find the smallest number of individuals so that a collision is more likely than not. \n",
    "\n",
    "We'll call this number the *tipping point* corresponding to a hash table with $N$ values.\n",
    "\n",
    "In this part you will write a function to find the tipping point as a function of $N$. To gain some efficiency in the code, the steps below avoid Table methods; those work better for display, visualization, and so on."
   ]
  },
  {
   "cell_type": "markdown",
   "metadata": {
    "#solution": false,
    "#staff": false,
    "#student": false
   },
   "source": [
    "### 2a) [On Paper] ###\n",
    "Based on the tipping point for the Earth year ($23$, with $N = 365$), you should have the sense that the tipping point is going to be small relative to $N$. Here are a couple of observations that will help you write your function.\n",
    "\n",
    "First review the formula for $P(D_n)$ in Part **1a**. This is the probability of no match among $n$ people.\n",
    "\n",
    "Fill in the blank with the correct factor:\n",
    "\n",
    "For $2 \\le n \\le N$,\n",
    "$$\n",
    "P(D_n) ~ = ~ P(D_{n-1}) \\cdot \\underline{ ~~~~~~~~~~~~~~~~ }\n",
    "$$\n",
    "\n",
    "If you have trouble, start with $N = 365$ and refer to **1a**. What will happen if you replace $n$ by $n-1$?"
   ]
  },
  {
   "cell_type": "markdown",
   "metadata": {
    "#solution": false,
    "#staff": false,
    "#student": false
   },
   "source": [
    "In what follows, keep in mind that:\n",
    "\n",
    "- $P(D_1) = 1$\n",
    "- The smallest $n$ for which $P(\\mbox{at least one match among } n \\mbox{ birthdays}) > 1/2$ is also the smallest $n$ for which $P(D_n) < 1/2$."
   ]
  },
  {
   "cell_type": "markdown",
   "metadata": {
    "#solution": false,
    "#staff": false,
    "#student": false
   },
   "source": [
    "### 2b) ###\n",
    "Use 2a to define a function called `tipping_point` that takes $N$ as its argument and returns the tipping point when there are $N$ days in the year.\n",
    "\n",
    "Do **not** compute $P(D_n)$ for all $n$. The vast majority of that computation will be unnecessary. Rather, set up your computation in the steps indicated by 2a:\n",
    "\n",
    "- Start with one individual and probability 1 of no match.\n",
    "- As long as the probability is greater than 1/2, keep increasing the number of individuals by 1 and updating the probability of no match by the product formula you came up with in 2a.\n",
    "- Once the probability is less than 1/2, return (carefully!) the number of individuals corresponding to the tipping point.\n",
    "\n",
    "There are numerous ways to write this function. Use any efficient way; this implies avoiding Table here."
   ]
  },
  {
   "cell_type": "code",
   "execution_count": 21,
   "metadata": {
    "#solution": false,
    "#staff": false,
    "#student": true,
    "execution": {
     "iopub.execute_input": "2022-09-01T23:17:30.990570Z",
     "iopub.status.busy": "2022-09-01T23:17:30.989999Z",
     "iopub.status.idle": "2022-09-01T23:17:30.999082Z",
     "shell.execute_reply": "2022-09-01T23:17:30.996350Z",
     "shell.execute_reply.started": "2022-09-01T23:17:30.990538Z"
    },
    "tags": []
   },
   "outputs": [],
   "source": [
    "def tipping_point(N):\n",
    "    count, prob_no_match = 1, 1\n",
    "    while prob_no_match >= .5:\n",
    "        count += 1\n",
    "        prob_no_match *= (1 - (count - 1)/N)\n",
    "    return count"
   ]
  },
  {
   "cell_type": "markdown",
   "metadata": {
    "#solution": false,
    "#staff": false,
    "#student": false
   },
   "source": [
    "Run the cell below as a check of whether your function is working correctly."
   ]
  },
  {
   "cell_type": "code",
   "execution_count": 22,
   "metadata": {
    "#solution": false,
    "#staff": false,
    "#student": false,
    "execution": {
     "iopub.execute_input": "2022-09-01T23:17:31.918270Z",
     "iopub.status.busy": "2022-09-01T23:17:31.913838Z",
     "iopub.status.idle": "2022-09-01T23:17:31.985968Z",
     "shell.execute_reply": "2022-09-01T23:17:31.984835Z",
     "shell.execute_reply.started": "2022-09-01T23:17:31.918228Z"
    },
    "tags": []
   },
   "outputs": [
    {
     "data": {
      "text/plain": [
       "23"
      ]
     },
     "execution_count": 22,
     "metadata": {},
     "output_type": "execute_result"
    }
   ],
   "source": [
    "tipping_point(365)"
   ]
  },
  {
   "cell_type": "markdown",
   "metadata": {
    "#solution": false,
    "#staff": false,
    "#student": false
   },
   "source": [
    "### 2c) ###\n",
    "What's the tipping point on Mars?"
   ]
  },
  {
   "cell_type": "code",
   "execution_count": 23,
   "metadata": {
    "#solution": false,
    "#staff": false,
    "#student": true,
    "execution": {
     "iopub.execute_input": "2022-09-01T23:18:15.206959Z",
     "iopub.status.busy": "2022-09-01T23:18:15.205472Z",
     "iopub.status.idle": "2022-09-01T23:18:15.217477Z",
     "shell.execute_reply": "2022-09-01T23:18:15.215215Z",
     "shell.execute_reply.started": "2022-09-01T23:18:15.206915Z"
    },
    "tags": []
   },
   "outputs": [
    {
     "data": {
      "text/plain": [
       "32"
      ]
     },
     "execution_count": 23,
     "metadata": {},
     "output_type": "execute_result"
    }
   ],
   "source": [
    "tipping_point(687)"
   ]
  },
  {
   "cell_type": "markdown",
   "metadata": {
    "#solution": false,
    "#staff": false,
    "#student": false
   },
   "source": [
    "### 2d) ###\n",
    "If you use a 16-bit hash, there are $2^{16} = 65536$ hash values. What is the tipping point for a 16-bit hash?"
   ]
  },
  {
   "cell_type": "code",
   "execution_count": 24,
   "metadata": {
    "#solution": false,
    "#staff": false,
    "#student": true,
    "execution": {
     "iopub.execute_input": "2022-09-01T23:18:29.055643Z",
     "iopub.status.busy": "2022-09-01T23:18:29.055111Z",
     "iopub.status.idle": "2022-09-01T23:18:29.067850Z",
     "shell.execute_reply": "2022-09-01T23:18:29.066587Z",
     "shell.execute_reply.started": "2022-09-01T23:18:29.055604Z"
    },
    "tags": []
   },
   "outputs": [
    {
     "data": {
      "text/plain": [
       "302"
      ]
     },
     "execution_count": 24,
     "metadata": {},
     "output_type": "execute_result"
    }
   ],
   "source": [
    "tipping_point(2**16)"
   ]
  },
  {
   "cell_type": "markdown",
   "metadata": {
    "#solution": false,
    "#staff": false,
    "#student": false
   },
   "source": [
    "**Optional:** If you use a 32-bit hash there are $2^{32} \\approx 4.3 \\times 10^9$ hash values. If you wrote your function reasonably efficiently, it should give you the tipping point for a 32-bit hash after some chugging, without crashing your system. But please only try it after letting course staff look at your code for `tipping_point`. It's not a required element of the lab."
   ]
  },
  {
   "cell_type": "code",
   "execution_count": 26,
   "metadata": {
    "#solution": false,
    "#staff": false,
    "#student": true,
    "execution": {
     "iopub.execute_input": "2022-09-01T23:19:16.901413Z",
     "iopub.status.busy": "2022-09-01T23:19:16.896333Z",
     "iopub.status.idle": "2022-09-01T23:19:16.938912Z",
     "shell.execute_reply": "2022-09-01T23:19:16.936743Z",
     "shell.execute_reply.started": "2022-09-01T23:19:16.901356Z"
    },
    "tags": []
   },
   "outputs": [
    {
     "data": {
      "text/plain": [
       "77164"
      ]
     },
     "execution_count": 26,
     "metadata": {},
     "output_type": "execute_result"
    }
   ],
   "source": [
    "# OPTIONAL\n",
    "tipping_point(2**32)"
   ]
  },
  {
   "cell_type": "markdown",
   "metadata": {
    "#solution": false,
    "#staff": false,
    "#student": false
   },
   "source": [
    "## Part 3: The Attack ##\n",
    "\n",
    "Hash functions play a major role in cryptography and computer security. For example, servers verify passwords by comparing the hash value of an entered string with the hash value stored in a database. *Birthday attacks* take advantage of the birthday paradox to generate hash collisions and trick computers into accepting a malicious file in place of a previously-encountered safe file. \n",
    "\n",
    "The key idea behind birthday attacks is what you have observed in this lab: by making a relatively small number (the tipping point!) of random attempts, the attacker has more than an even chance of matching a hash value that has been assigned. \n",
    "\n",
    "Note that the attackers don't aim to collide with a *specific* hash value—they just try for a collision with any assigned value. In other words, the goal is to get any match, just as in the birthday problem. "
   ]
  },
  {
   "cell_type": "markdown",
   "metadata": {
    "#solution": false,
    "#staff": false,
    "#student": false,
    "tags": []
   },
   "source": [
    "### 3a) ###\n",
    "\n",
    "If you use a 64-bit hash there are approximately $1.8 \\times 10^{19}$ hash values. It might be cruel to ask a computer to crank out your `tipping_point` value for such a large $N$.\n",
    "\n",
    "But you know an exponential approximation to the chance of no match, which you can now use to approximate the tipping point.\n",
    "\n",
    "Review the approximation in Step 4 of [Section 1.5](http://prob140.org/textbook/content/Chapter_01/05_An_Exponential_Approximation.html#step-4-invert-as-needed-to-complete-the-approximation) of the Data 140 textbook. You should review the math that went into the approximation, but for this lab it is enough just to know the final answer:\n",
    "\n",
    "For large $n$, \n",
    "$$\n",
    "P(D_n) ~ \\approx ~ e^{-\\frac{1}{2N}n^2}\n",
    "$$\n",
    "\n",
    "To get a rough approximation of the tipping point, set $P(D_n)$ to $1/2$ in the approximation above and solve for $n$ in terms of $N$. Do this on scratch paper. Then write a function called `approx_tipping_point` that takes $N$ as its argument and returns the approximate tipping point.\n",
    "\n",
    "Use `np.log(x)` for $\\log(x)$ and the ceiling function `np.ceil(x)` for the smallest integer greater than or equal to $x$."
   ]
  },
  {
   "cell_type": "code",
   "execution_count": 35,
   "metadata": {
    "#solution": false,
    "#staff": false,
    "#student": true,
    "execution": {
     "iopub.execute_input": "2022-09-01T23:52:33.142585Z",
     "iopub.status.busy": "2022-09-01T23:52:33.140603Z",
     "iopub.status.idle": "2022-09-01T23:52:33.181762Z",
     "shell.execute_reply": "2022-09-01T23:52:33.167470Z",
     "shell.execute_reply.started": "2022-09-01T23:52:33.142502Z"
    },
    "tags": []
   },
   "outputs": [],
   "source": [
    "def approx_tipping_point(N):\n",
    "    return int(np.ceil(np.sqrt(-2*N*np.log(1/2))))"
   ]
  },
  {
   "cell_type": "markdown",
   "metadata": {
    "#solution": false,
    "#staff": false,
    "#student": false
   },
   "source": [
    "### 3b) ###\n",
    "Run the cell below and compare with the exact answers you got in Part 2. Keep in mind that all the calculations might be affected by floating point accuracy issues."
   ]
  },
  {
   "cell_type": "code",
   "execution_count": 36,
   "metadata": {
    "#solution": false,
    "#staff": false,
    "#student": false,
    "execution": {
     "iopub.execute_input": "2022-09-01T23:52:33.820358Z",
     "iopub.status.busy": "2022-09-01T23:52:33.819830Z",
     "iopub.status.idle": "2022-09-01T23:52:33.836153Z",
     "shell.execute_reply": "2022-09-01T23:52:33.834076Z",
     "shell.execute_reply.started": "2022-09-01T23:52:33.820327Z"
    },
    "tags": []
   },
   "outputs": [
    {
     "data": {
      "text/plain": [
       "(23, 31, 302)"
      ]
     },
     "execution_count": 36,
     "metadata": {},
     "output_type": "execute_result"
    }
   ],
   "source": [
    "approx_tipping_point(365), approx_tipping_point(687), approx_tipping_point(2**16)"
   ]
  },
  {
   "cell_type": "markdown",
   "metadata": {
    "#solution": false,
    "#staff": false,
    "#student": false
   },
   "source": [
    "### 3c) ###\n",
    "What's the approximate tipping point for a 128-bit hash?"
   ]
  },
  {
   "cell_type": "code",
   "execution_count": 37,
   "metadata": {
    "#solution": false,
    "#staff": false,
    "#student": true,
    "execution": {
     "iopub.execute_input": "2022-09-01T23:52:43.247467Z",
     "iopub.status.busy": "2022-09-01T23:52:43.246910Z",
     "iopub.status.idle": "2022-09-01T23:52:43.264593Z",
     "shell.execute_reply": "2022-09-01T23:52:43.263200Z",
     "shell.execute_reply.started": "2022-09-01T23:52:43.247435Z"
    },
    "tags": []
   },
   "outputs": [
    {
     "data": {
      "text/plain": [
       "21719381355163561984"
      ]
     },
     "execution_count": 37,
     "metadata": {},
     "output_type": "execute_result"
    }
   ],
   "source": [
    "approx_tipping_point(2**128)"
   ]
  },
  {
   "cell_type": "markdown",
   "metadata": {
    "#solution": false,
    "#staff": false,
    "#student": false
   },
   "source": [
    "### 3d) ###\n",
    "Take a look at the [Wikipedia page on birthday attacks](https://en.wikipedia.org/wiki/Birthday_attack). Scroll down to the table in the middle of the article. \n",
    "\n",
    "The notation $H$ in the second column is what we are calling $N$. \n",
    "\n",
    "We have been looking for an essentially 50% chance of getting a match, so you can just focus on the 50% column under Desired Probability of a Random Collision. \n",
    "\n",
    "Are your approximations in **3b** consistent with the entries in this column?"
   ]
  },
  {
   "cell_type": "markdown",
   "metadata": {
    "#solution": false,
    "#staff": false,
    "#student": true
   },
   "source": [
    "**Yes they are consistent**"
   ]
  },
  {
   "cell_type": "markdown",
   "metadata": {
    "#solution": false,
    "#staff": false,
    "#student": false
   },
   "source": [
    "#### Further Reading on the Birthday Attack #### \n",
    "To test whether their cryptographic hash functions are safe from attack, tech companies have to try to break them. Just last year, security researchers at Google generated a hash collision using SHA-1, a widely used hashing algorithm that generates 160-bit hash values. If you are interested in learning more, take a look at Google's technical report:\n",
    "https://security.googleblog.com/2017/02/announcing-first-sha1-collision.html. Their recommendation after generating the collision: \"For the tech community, our findings emphasize the necessity of sunsetting SHA-1 usage.\""
   ]
  },
  {
   "cell_type": "markdown",
   "metadata": {
    "#solution": false,
    "#staff": false,
    "#student": false
   },
   "source": [
    "## Part 4: The Time Required for a Collision ##\n",
    "\n",
    "Suppose you start out with $N$ hash values and assign them to individuals one by one at random with replacement as we have assumed throughout.\n",
    "\n",
    "Let $M_1$ be the number of individuals who are assigned hash values until the first time the value assigned has been assigned before. For example, if the sequence of assigned values starts out as 212, 41, 7, 90, 41, then $M_1 = 5$.\n",
    "\n",
    "**Important Note**: In this course \"until\" will mean \"up to and including\" as you can see in the example above.\n",
    "\n",
    "The random variable $M_1$ is called *the time of the first match*. In this part of the lab you will find its probability distribution."
   ]
  },
  {
   "cell_type": "markdown",
   "metadata": {
    "#solution": false,
    "#staff": false,
    "#student": false
   },
   "source": [
    "### 4a) ###\n",
    "\n",
    "When you are trying to identify a distribution, **always** start with the possible values. In terms of $N$, what are the possible values of $M_1$?"
   ]
  },
  {
   "cell_type": "markdown",
   "metadata": {
    "#solution": false,
    "#staff": false,
    "#student": true
   },
   "source": [
    "$$ (2 \\leq M_1 \\leq N + 1) \\wedge (M_1 \\in \\N)$$"
   ]
  },
  {
   "cell_type": "markdown",
   "metadata": {
    "#solution": false,
    "#staff": false,
    "#student": false
   },
   "source": [
    "### 4b) [On Paper] ###\n",
    "\n",
    "Suppose there are $n$ individuals in all. As in Part **1a** let $D_n$ be the event that all $n$ individuals are assigned different values. In Part 1 you have the algebraic formula for $P(D_n)$ as well as numerical values when the total number of hash values is $N = 365$.\n",
    "\n",
    "Fill in the blank with one of the symbols $=$, $>$, $\\ge$, $<$, $\\le$, and **explain your logic**.\n",
    "\n",
    "For $n > 1$, the event $D_n$ is the same as the event $\\{M_1 ? n\\}$."
   ]
  },
  {
   "cell_type": "markdown",
   "metadata": {
    "#solution": false,
    "#staff": false,
    "#student": false
   },
   "source": [
    "### 4c) [On Paper] ###\n",
    "\n",
    "For $n \\ge 1$ define the event $G_n = \\{M_1 > n \\}$.\n",
    "\n",
    "Fill in the blanks. \n",
    "- The first blank should be filled in with set operations (such as union, intersection, difference, complement, etc) performed on some or all of the events $G_1, G_2, \\ldots$.\n",
    "- The second blank should be filled in with arithmetic operations performed on some or all of $P(G_1), P(G_2), \\ldots$.\n",
    "\n",
    "For a possible value $n$ in the range identified in Part **a** above, the event $\\{M_1 = n\\}$ is the same as the event $\\underline{~~~~~~~~~~~~~~~~~~~~~~~~~~~~}$, and hence $P(M_1 = n) = \\underline{~~~~~~~~~~~~~~~~~~~~~~~~~~~~~~~~~~~~~~~~~~~~~~~~~~}$.\n",
    "\n",
    "**Be sure to show** that your answer is correct for the values of $n$ that are at the edges of your answer to Part **a**."
   ]
  },
  {
   "cell_type": "markdown",
   "metadata": {
    "#solution": false,
    "#staff": false,
    "#student": false
   },
   "source": [
    "### 4d) ###\n",
    "\n",
    "Complete the cell below to find probability distribution of $M_1$ numerically in the case $N = 365$. \n",
    "\n",
    "- The array `possible_vals_M1` should contain the possible values of $M_1$ found in Part **a** above.\n",
    "\n",
    "- The probabilities of those values should be placed in the array `matching_time_probs`, calculated using:\n",
    "    - Your work in Parts **a-c** above\n",
    "    - The array `all_different` from **Part 1**\n",
    "    - NumPy functions; consult the list provided at the start of the lab\n",
    "    \n",
    "Be careful with `matching_time_probs`. Keep track of signs and lengths, and check that the first and last values are correct."
   ]
  },
  {
   "cell_type": "code",
   "execution_count": null,
   "metadata": {
    "#solution": false,
    "#staff": false,
    "#student": true,
    "execution": {
     "iopub.status.busy": "2022-09-01T23:06:37.026453Z",
     "iopub.status.idle": "2022-09-01T23:06:37.027141Z",
     "shell.execute_reply": "2022-09-01T23:06:37.026874Z",
     "shell.execute_reply.started": "2022-09-01T23:06:37.026848Z"
    }
   },
   "outputs": [],
   "source": [
    "N = 365\n",
    "\n",
    "\"\"\" Distribution of M_1 \"\"\"\n",
    "\n",
    "# Array of possible values, in terms of N\n",
    "possible_vals_M1 = np.arange(n + 1)\n",
    "\n",
    "# Carefully ... An array of the corresponding probabilities, in terms of N and the array all_different\n",
    "matching_time_probs = ..."
   ]
  },
  {
   "cell_type": "markdown",
   "metadata": {
    "#solution": false,
    "#staff": false,
    "#student": false
   },
   "source": [
    "Run the cell below for a ball-park check of whether your calculations are correct. The two lengths should match, and you know what the sum should be."
   ]
  },
  {
   "cell_type": "code",
   "execution_count": null,
   "metadata": {
    "#solution": false,
    "#staff": false,
    "#student": false,
    "execution": {
     "iopub.status.busy": "2022-09-01T23:06:37.029254Z",
     "iopub.status.idle": "2022-09-01T23:06:37.030012Z",
     "shell.execute_reply": "2022-09-01T23:06:37.029724Z",
     "shell.execute_reply.started": "2022-09-01T23:06:37.029693Z"
    }
   },
   "outputs": [],
   "source": [
    "len(possible_vals_M1), len(matching_time_probs), sum(matching_time_probs)"
   ]
  },
  {
   "cell_type": "markdown",
   "metadata": {
    "#solution": false,
    "#staff": false,
    "#student": false
   },
   "source": [
    "Complete the cell below to construct the distribution object `dist_M1` so that `Plot(dist_M1)` displays the probability histogram of $M_1$. Consult [the textbook](http://prob140.org/textbook/content/Chapter_03/02_Distributions.html#visualizing-the-distribution) for the syntax."
   ]
  },
  {
   "cell_type": "code",
   "execution_count": null,
   "metadata": {
    "#solution": false,
    "#staff": false,
    "#student": true,
    "execution": {
     "iopub.status.busy": "2022-09-01T23:06:37.031396Z",
     "iopub.status.idle": "2022-09-01T23:06:37.031996Z",
     "shell.execute_reply": "2022-09-01T23:06:37.031802Z",
     "shell.execute_reply.started": "2022-09-01T23:06:37.031780Z"
    }
   },
   "outputs": [],
   "source": [
    "dist_M1 = Table()...\n",
    "\n",
    "Plot(dist_M1)\n",
    "\n",
    "# labels\n",
    "plt.xlabel('$M_1$')\n",
    "plt.title('Distribution of $M_1$');"
   ]
  },
  {
   "cell_type": "markdown",
   "metadata": {
    "#solution": false,
    "#staff": false,
    "#student": false
   },
   "source": [
    "If you have calculated the distribution correctly, the histogram should be bunched up on the left. For the other values, the chances are so small that the bars are invisible.\n",
    "\n",
    "Run the cell below to zoom in on the main action. "
   ]
  },
  {
   "cell_type": "code",
   "execution_count": null,
   "metadata": {
    "#solution": false,
    "#staff": false,
    "#student": false,
    "execution": {
     "iopub.status.busy": "2022-09-01T23:06:37.033622Z",
     "iopub.status.idle": "2022-09-01T23:06:37.034412Z",
     "shell.execute_reply": "2022-09-01T23:06:37.034203Z",
     "shell.execute_reply.started": "2022-09-01T23:06:37.034180Z"
    }
   },
   "outputs": [],
   "source": [
    "truncated_dist_M1 = dist_M1.take(np.arange(100))\n",
    "\n",
    "Plot(truncated_dist_M1)\n",
    "\n",
    "plt.xlabel('$M_1$')\n",
    "plt.title('Distribution of $M_1$');"
   ]
  },
  {
   "cell_type": "markdown",
   "metadata": {
    "#solution": false,
    "#staff": false,
    "#student": false
   },
   "source": [
    "Remember this shape. You'll see a continuous version of it later in the course when we study the [Rayleigh distribution](http://prob140.org/textbook/content/Chapter_16/02_Monotone_Functions.html#applying-the-formula). Scroll down till you see a graph with a familiar shape."
   ]
  },
  {
   "cell_type": "markdown",
   "metadata": {
    "#solution": false,
    "#staff": false,
    "#student": false
   },
   "source": [
    "### 4e) ###\n",
    "\n",
    "The *median* of $M_1$ is the smallest value of n such that $P(M_1 \\le n) \\ge 0.5$. \n",
    "\n",
    "Without calculation, complete the cell below with the numerical value of the median in the case $N=365$, and provide your reasoning in the comment."
   ]
  },
  {
   "cell_type": "code",
   "execution_count": null,
   "metadata": {
    "#solution": false,
    "#staff": false,
    "#student": true,
    "execution": {
     "iopub.status.busy": "2022-09-01T23:06:37.036161Z",
     "iopub.status.idle": "2022-09-01T23:06:37.036799Z",
     "shell.execute_reply": "2022-09-01T23:06:37.036543Z",
     "shell.execute_reply.started": "2022-09-01T23:06:37.036517Z"
    }
   },
   "outputs": [],
   "source": [
    "\"\"\"\n",
    "Use as many lines of comment as you need to explain your logic fully.\n",
    "\"\"\"\n",
    "\n",
    "median_365 = ...          # This should just be an number; no arithmetic operations please"
   ]
  },
  {
   "cell_type": "markdown",
   "metadata": {
    "#solution": false,
    "#staff": false,
    "#student": false
   },
   "source": [
    "Now run the two cells below to visualize the event $\\{M_1 \\le \\text{median}\\}$ and obtain its probability."
   ]
  },
  {
   "cell_type": "code",
   "execution_count": null,
   "metadata": {
    "#solution": false,
    "#staff": false,
    "#student": false,
    "execution": {
     "iopub.status.busy": "2022-09-01T23:06:37.038505Z",
     "iopub.status.idle": "2022-09-01T23:06:37.039355Z",
     "shell.execute_reply": "2022-09-01T23:06:37.039067Z",
     "shell.execute_reply.started": "2022-09-01T23:06:37.039033Z"
    }
   },
   "outputs": [],
   "source": [
    "event_4e = np.arange(median_365 + 1)\n",
    "\n",
    "Plot(truncated_dist_M1, event=event_4e)\n",
    "\n",
    "plt.xlabel('$M_1$')\n",
    "plt.title('Event {$M_1 \\leq median$}');"
   ]
  },
  {
   "cell_type": "code",
   "execution_count": null,
   "metadata": {
    "#solution": false,
    "#staff": false,
    "#student": false,
    "execution": {
     "iopub.status.busy": "2022-09-01T23:06:37.041535Z",
     "iopub.status.idle": "2022-09-01T23:06:37.042538Z",
     "shell.execute_reply": "2022-09-01T23:06:37.042128Z",
     "shell.execute_reply.started": "2022-09-01T23:06:37.042101Z"
    }
   },
   "outputs": [],
   "source": [
    "dist_M1.prob_event(event_4e)"
   ]
  },
  {
   "cell_type": "markdown",
   "metadata": {
    "#solution": false,
    "#staff": false,
    "#student": false
   },
   "source": [
    "## Conclusion ##\n",
    "\n",
    "You now know:\n",
    "- What a birthday attack is, at least in a rough sense\n",
    "- Roughly how many random attempts have to be made for a collision to be more likely than not, as a function of the number of values in the hash table\n",
    "- That problems involving artificial settings such as birthdays can have considerably wider practical applications\n",
    "- That exponential approximations can be great as approximations and also as ways to get a quick sense of how a complicated function is behaving\n",
    "\n",
    "### <span style=\"color: #113399\">You have completed your first Data 140 lab. Congratulations!</span> ###"
   ]
  },
  {
   "cell_type": "markdown",
   "metadata": {
    "#solution": false,
    "#staff": false,
    "#student": false
   },
   "source": [
    "## Submission Instructions ##\n",
    "\n",
    "Many assignments throughout the course will have a written portion and a code portion. Please follow the directions below to properly submit both portions.\n",
    "\n",
    "### Written Portion ###\n",
    "*  Scan all the pages into a PDF. You can use any scanner or a phone using applications such as CamScanner. Please **DO NOT** simply take pictures using your phone. \n",
    "* Please start a new page for each question. If you have already written multiple questions on the same page, you can crop the image in CamScanner or fold your page over (the old-fashioned way). This helps expedite grading.\n",
    "* It is your responsibility to check that all the work on all the scanned pages is legible.\n",
    "\n",
    "### Code Portion ###\n",
    "* Save your notebook using File > Save and Checkpoint.\n",
    "* Generate a PDF file using File > Download as > PDF via LaTeX. This might take a few seconds and will automatically download a PDF version of this notebook.\n",
    "    * If you have issues, please make a follow-up post on the general Lab 1 Ed thread.\n",
    "    \n",
    "### Submitting ###\n",
    "* Combine the PDFs from the written and code portions into one PDF.  [Here](https://smallpdf.com/merge-pdf) is a useful tool for doing so. \n",
    "* Submit the assignment to Lab 1 on Gradescope. \n",
    "* **Make sure to assign each page of your pdf to the correct question.**\n",
    "* **It is your responsibility to verify that all of your work shows up in your final PDF submission.**\n",
    "\n",
    "If you have questions about scanning or uploading your work, please post a follow-up to the [Ed thread](https://edstem.org/us/courses/24954/discussion/1695227) on this topic. "
   ]
  },
  {
   "cell_type": "code",
   "execution_count": null,
   "metadata": {
    "#solution": false,
    "#staff": false,
    "#student": false
   },
   "outputs": [],
   "source": []
  }
 ],
 "metadata": {
  "anaconda-cloud": {},
  "checksums": [
   "41c7cd602a4412e76fa92693a8966fea",
   "1df638f1d106c53ef4b1f4322b31686c",
   "9a011c6a00003e88335c70ab74717039",
   "d24d692d50a9702a6dce5e3b9262056a",
   "036db2d2d84687f1befca7d08aa364f8",
   "818ee89a9d2c6ac3da298e9cbef58219",
   "3a76d7cce4e9ecdb4fe70737e7879960",
   "640061103a186fd26f59746dd4d6de57",
   "f5743313ddc60c7ab938919fb6b5ceff",
   "6ec044e2d51c3286aada8768560e54e2",
   "ff8363ca90fb629df71f4579d10795ed",
   "b9fbbfa1033e8c2fa95d41124e260994",
   "bbe191baf414a656f9779abb0a961561",
   "19826cd644194409d767c5c28b446e18",
   "be4d11c96e4e8ad48e49be87b7f41f77",
   "4e24e7986faad6d846fc2804d5b8f8b6",
   "1f78886da88dd94042b3834e31b4edd4",
   "a6266e810ceaa9c786f07a85f3bcdff1",
   "6917b6a12b6818b67cd188c52bb7ef24",
   "7d8d3524a2b28dcb1feef28f491c21cd",
   "f07cbd6f44e9108db3438a5395363cb8",
   "e9112d73a20e6bd60a2f9978984bd118",
   "88c895ad5ee25bc70b05d67d1401a022",
   "c595afd80edfd4d6b30c60cd84103c1a",
   "30ccfb99160a507b45f1acb62027aa52",
   "0c7410068737eeb54abf133b0b86989c",
   "c492f20147888dce2ee6026249894c60",
   "e2f8e7372e945d2ac79790ae9636ca87",
   "985aec0423b79c3d2017ffadd69dae10",
   "a986061e2856e3e1a94b8a0155514158",
   "0276ab01ff07b7983924e7150fdd9fea",
   "6cddadf2b9edc364e3e1a67e4379f712",
   "09ab92639e34a9a2e94893e83263cebb",
   "6917b6a12b6818b67cd188c52bb7ef24",
   "4af4e753f8741313e751f4f1703299b6",
   "cd5de7d14a6ad0a2d71b0b780138dc42",
   "dfad2bfd45f94f2228eaab72154c146a",
   "69be6cc75ab88339987df3904a7a741a",
   "114d55c87fb31943e7731ebf90735a97",
   "7a423d6921d2a5647775ce03c191af30",
   "92804946775534070c4b9d6a1baf1963",
   "3a50102c76834f3fd539c99abb04d4ac",
   "2f43b42fd833d1e77420a8dae7419000",
   "da71d740e635c024ccb99c31a9c51362",
   "2f43b42fd833d1e77420a8dae7419000",
   "5d60cd998d50e4374b5bb8e7925ed21d",
   "890c3b1b6b08539f0287df55a8d06ebb",
   "73d066971cf08cbbb17956b298012179",
   "5530a1fc0442025ed4f7fd5c34648a4e",
   "e0c7c00957265895f6208076c0c30dc0",
   "8ecfda8ca5a9232612935d84e23c0e15",
   "5d322ecb99d290d05974cf53ba4910f0",
   "3a78a89b7a1b9be565b79444964485d0",
   "2f43b42fd833d1e77420a8dae7419000",
   "14f3cb5186c3bbdf56b0132b969a82c5",
   "7561851a18e607fac6e17c60c95e59ce",
   "4cd28f47a90953870bc10724fa4e7669",
   "dd10aaf0d5b1ac2fce490368528e7637",
   "c5ffb47d8264e79cb25cab5fdab62e7c",
   "8a8b60d7340d5a5e3fc656523302d194",
   "f304fe5261675ad9cc368c1d8b8c4708",
   "1ab31f4430ed9f7acf324e1a528782b6",
   "7a4a654c3dbe1c4791df5fd570d583e9",
   "c5e70f49425cc7e5da09ea96bb6c3e69",
   "e64a6cb0cdbc05033fa671022675d477",
   "0b9074d06c5654d85a8e43a1718f20ac",
   "88cd7d8c420c8dc1b1a5a0c556e872c1",
   "e315d45d91d86a4e8b833eeee1876c64",
   "a65882c6484a260d3a04ec7d7c323e38",
   "0ac97e740feb0e47fe26145b8a1194b0",
   "84881bfb14b1a979e3a0a44defe8c5cb",
   "cc0dc7329279c399b461c880ffe49aa6",
   "283a1fc143b023b68abe24ad93f25c0a",
   "98eebcf9902918f02e18e6ffdc453bf7",
   "256825c6d5fa881c365919f1a4f91f0b",
   "af702e2d4d82564dcc6abc45b25428b8",
   "3ce4a3d3c63a212c618e494e4b39abcf",
   "af2bee97d05bd45f1fe8f0c714d3a95d",
   "d41d8cd98f00b204e9800998ecf8427e"
  ],
  "history": [
   {
    "code": "# SETUP\n\n# These lines make warnings go away\nimport warnings\nwarnings.filterwarnings('ignore')\n\n# The main libraries\nimport numpy as np\nfrom datascience import *\nfrom prob140 import *\n\n# These lines do some fancy plotting magic\nimport matplotlib\n%matplotlib inline\nimport matplotlib.pyplot as plt\nplt.style.use('fivethirtyeight')",
    "id": "df92bca41d2a402ba0d2bf707b9dd4b5",
    "idx": 2,
    "time": "2021-02-04T03:10:45.079Z",
    "type": "execution"
   },
   {
    "id": "df92bca41d2a402ba0d2bf707b9dd4b5",
    "time": "2021-02-04T03:10:47.510Z",
    "type": "completion"
   },
   {
    "code": "N = 365",
    "id": "d956ddc998a9441ba6149ec6522332c0",
    "idx": 5,
    "time": "2021-02-04T03:10:47.957Z",
    "type": "execution"
   },
   {
    "id": "d956ddc998a9441ba6149ec6522332c0",
    "time": "2021-02-04T03:10:48.145Z",
    "type": "completion"
   },
   {
    "code": "n = 5\nindividuals = np.arange(n)\nindividuals",
    "id": "84b3cf42d97345b0b64ea90e2f92bede",
    "idx": 7,
    "time": "2021-02-04T03:10:49.875Z",
    "type": "execution"
   },
   {
    "id": "84b3cf42d97345b0b64ea90e2f92bede",
    "time": "2021-02-04T03:10:49.992Z",
    "type": "completion"
   },
   {
    "code": "N - individuals",
    "id": "ef8372bb248c437b8662976ac2dd9878",
    "idx": 8,
    "time": "2021-02-04T03:10:51.017Z",
    "type": "execution"
   },
   {
    "id": "ef8372bb248c437b8662976ac2dd9878",
    "time": "2021-02-04T03:10:51.161Z",
    "type": "completion"
   },
   {
    "code": "(N - individuals)/N",
    "id": "49099414a3ad4c3e837ba20381c1ec83",
    "idx": 9,
    "time": "2021-02-04T03:10:51.269Z",
    "type": "execution"
   },
   {
    "code": "np.prod( (N - individuals)/N )",
    "id": "27762ee6ec7d449d89a0ada36712ff0b",
    "idx": 10,
    "time": "2021-02-04T03:10:51.425Z",
    "type": "execution"
   },
   {
    "id": "49099414a3ad4c3e837ba20381c1ec83",
    "time": "2021-02-04T03:10:51.470Z",
    "type": "completion"
   },
   {
    "id": "27762ee6ec7d449d89a0ada36712ff0b",
    "time": "2021-02-04T03:10:51.604Z",
    "type": "completion"
   },
   {
    "code": "#solution\ndef p_no_match(n):\n    people = np.arange(n)\n    return np.prod( (N - people)/N )",
    "id": "5a341572b108489d8207b70ec8eef1b3",
    "idx": 13,
    "time": "2021-02-04T03:10:54.178Z",
    "type": "execution"
   },
   {
    "id": "5a341572b108489d8207b70ec8eef1b3",
    "time": "2021-02-04T03:10:54.322Z",
    "type": "completion"
   },
   {
    "code": "#solution\np_no_match(23)",
    "id": "e19d7d224e10452c8a2c14911714554a",
    "idx": 19,
    "time": "2021-02-04T03:10:57.128Z",
    "type": "execution"
   },
   {
    "id": "e19d7d224e10452c8a2c14911714554a",
    "time": "2021-02-04T03:10:57.270Z",
    "type": "completion"
   },
   {
    "code": "birthday_probs = Table().with_columns('People', np.arange(1, N+1))\nbirthday_probs",
    "id": "ad90d0e21c304899b505502975aa114a",
    "idx": 21,
    "time": "2021-02-04T03:11:02.602Z",
    "type": "execution"
   },
   {
    "id": "ad90d0e21c304899b505502975aa114a",
    "time": "2021-02-04T03:11:02.724Z",
    "type": "completion"
   },
   {
    "code": "#solution\nall_different = birthday_probs.apply(p_no_match, 0)",
    "id": "5b83f3c04b154ca081b4464803a0bfaa",
    "idx": 24,
    "time": "2021-02-04T03:11:04.511Z",
    "type": "execution"
   },
   {
    "id": "5b83f3c04b154ca081b4464803a0bfaa",
    "time": "2021-02-04T03:11:04.625Z",
    "type": "completion"
   },
   {
    "code": "#solution\nall_different.item(22)",
    "id": "543f46a9e1b34c718d7effdbad1fe28e",
    "idx": 27,
    "time": "2021-02-04T03:11:05.840Z",
    "type": "execution"
   },
   {
    "id": "543f46a9e1b34c718d7effdbad1fe28e",
    "time": "2021-02-04T03:11:05.978Z",
    "type": "completion"
   },
   {
    "code": "#solution\nbirthday_probs = birthday_probs.with_columns(\n    'P(no match)', all_different,\n    'P(at least one match)', 1 - all_different\n)\n\nbirthday_probs",
    "id": "ec783bfdb5a04c12999f4af3496870b7",
    "idx": 30,
    "time": "2021-02-04T03:11:07.414Z",
    "type": "execution"
   },
   {
    "id": "ec783bfdb5a04c12999f4af3496870b7",
    "time": "2021-02-04T03:11:07.540Z",
    "type": "completion"
   },
   {
    "code": "#solution\nbirthday_probs.scatter(0, 2)\n\n# Everything below this line is for fine-tuning the graphics.\n# There is nothing for you to enter below this line.\n\n# plt is short for matplotlib.pyplot; see the import cell at the top\n\nplt.xlim(0, 70)     # restrict trials to at most 70\n\nplt.ylim(0, 1)      # use the probability scale on the vertical axis\n\n# Draw a red horizontal line at level 1/2\n# plt.plot joins the dots between the two points (x_1, y_1) and (x_2, y_2)\n# Arguments: [x_1, x_2], [y_1, y_2] \n# Optional arguments: color=, and lw=\n# That last one is line width. Bigger values produce thicker lines.\n\nplt.plot([0, 70], [0.5, 0.5], color='red', lw=1);",
    "id": "93f1d01c2eaa4b11829828f54f9fe011",
    "idx": 34,
    "time": "2021-02-04T03:11:09.731Z",
    "type": "execution"
   },
   {
    "id": "93f1d01c2eaa4b11829828f54f9fe011",
    "time": "2021-02-04T03:11:10.155Z",
    "type": "completion"
   },
   {
    "code": "#solution\ndef tipping_point(N):\n    prob_no_match = 1\n    for n in np.arange(2, N+1):\n        if prob_no_match > 0.5:\n            prob_no_match = prob_no_match * (N - (n-1))/N\n        else:\n            return n-1",
    "id": "868c0f8c813443a4856bc4189540b914",
    "idx": 46,
    "time": "2021-02-04T03:11:17.819Z",
    "type": "execution"
   },
   {
    "id": "868c0f8c813443a4856bc4189540b914",
    "time": "2021-02-04T03:11:17.963Z",
    "type": "completion"
   },
   {
    "code": "tipping_point(365)",
    "id": "8c8b8751f77f499cb5c1969903f440e5",
    "idx": 48,
    "time": "2021-02-04T03:11:20.422Z",
    "type": "execution"
   },
   {
    "id": "8c8b8751f77f499cb5c1969903f440e5",
    "time": "2021-02-04T03:11:20.556Z",
    "type": "completion"
   },
   {
    "code": "#solution\ntipping_point(687)",
    "id": "bbd4e88681ca483980a90012518158e6",
    "idx": 51,
    "time": "2021-02-04T03:11:22.071Z",
    "type": "execution"
   },
   {
    "id": "bbd4e88681ca483980a90012518158e6",
    "time": "2021-02-04T03:11:22.211Z",
    "type": "completion"
   },
   {
    "code": "#solution\ntipping_point(2**16)",
    "id": "2ab238ad03a044fd950268be53fe4430",
    "idx": 54,
    "time": "2021-02-04T03:11:23.488Z",
    "type": "execution"
   },
   {
    "id": "2ab238ad03a044fd950268be53fe4430",
    "time": "2021-02-04T03:11:23.642Z",
    "type": "completion"
   },
   {
    "code": "#solution\ndef approx_tipping_point(N):\n    return np.ceil( (-2*N * np.log(0.5)) ** 0.5 )",
    "id": "2a8390867532435b8a550924314758ef",
    "idx": 61,
    "time": "2021-02-04T03:11:43.645Z",
    "type": "execution"
   },
   {
    "id": "2a8390867532435b8a550924314758ef",
    "time": "2021-02-04T03:11:43.760Z",
    "type": "completion"
   },
   {
    "code": "approx_tipping_point(365), approx_tipping_point(687), approx_tipping_point(2**16)",
    "id": "2fb24f6d52aa41bb863c57ec41081e5c",
    "idx": 63,
    "time": "2021-02-04T03:11:45.111Z",
    "type": "execution"
   },
   {
    "id": "2fb24f6d52aa41bb863c57ec41081e5c",
    "time": "2021-02-04T03:11:45.290Z",
    "type": "completion"
   },
   {
    "code": "#solution\napprox_tipping_point(2**128)",
    "id": "966d81c292a1470180df36014e5eb10e",
    "idx": 66,
    "time": "2021-02-04T03:11:47.288Z",
    "type": "execution"
   },
   {
    "id": "966d81c292a1470180df36014e5eb10e",
    "time": "2021-02-04T03:11:47.420Z",
    "type": "completion"
   },
   {
    "code": "#solution\nN = 365\n\n\"\"\" Distribution of M_1 \"\"\"\n\n# Array of possible values, in terms of N\npossible_vals_M1 = np.arange(2, N+2)\n\n# Carefully ... An array of the corresponding probabilities, in terms of N and the array all_different\nmatching_time_probs = np.append(-np.diff(all_different), all_different.item(N-1))",
    "id": "b8d098dbb5dd4b3e89f3d6b4c6f9eb42",
    "idx": 84,
    "time": "2021-02-04T03:11:55.810Z",
    "type": "execution"
   },
   {
    "id": "b8d098dbb5dd4b3e89f3d6b4c6f9eb42",
    "time": "2021-02-04T03:11:55.921Z",
    "type": "completion"
   },
   {
    "code": "len(possible_vals_M1), len(matching_time_probs), sum(matching_time_probs)",
    "id": "ef9d2c4a6b564ebaa536ac7273611262",
    "idx": 86,
    "time": "2021-02-04T03:11:58.996Z",
    "type": "execution"
   },
   {
    "id": "ef9d2c4a6b564ebaa536ac7273611262",
    "time": "2021-02-04T03:11:59.124Z",
    "type": "completion"
   },
   {
    "code": "#solution\ndist_M1 = Table().values(possible_vals_M1).probabilities(matching_time_probs)\n\nPlot(dist_M1)\n\n# labels\nplt.xlabel('$M_1$')\nplt.title('Distribution of $M_1$');",
    "id": "70ab310a571c4d5ab2815cb5e848f071",
    "idx": 89,
    "time": "2021-02-04T03:12:00.955Z",
    "type": "execution"
   },
   {
    "code": "truncated_dist_M1 = dist_M1.take(np.arange(100))\n\nPlot(truncated_dist_M1)\n\nplt.xlabel('$M_1$')\nplt.title('Distribution of $M_1$');",
    "id": "4b1b4e2789e94c518a638320785bf3f4",
    "idx": 91,
    "time": "2021-02-04T03:12:02.229Z",
    "type": "execution"
   },
   {
    "id": "70ab310a571c4d5ab2815cb5e848f071",
    "time": "2021-02-04T03:12:02.283Z",
    "type": "completion"
   },
   {
    "id": "4b1b4e2789e94c518a638320785bf3f4",
    "time": "2021-02-04T03:12:02.988Z",
    "type": "completion"
   },
   {
    "code": "#solution\n\"\"\"\nBy 4a, P(no matches among n people) = P(D_n) = P(M_1 > n).\nSo P(at least one match among n people) = 1 - P(D_n) = P(M_1 <= n).\nThat crosses 50% at n=23.\n\"\"\"\n\nmedian_365 = 23",
    "id": "1f15df369dd840308e6f706385831374",
    "idx": 95,
    "time": "2021-02-04T03:12:05.099Z",
    "type": "execution"
   },
   {
    "id": "1f15df369dd840308e6f706385831374",
    "time": "2021-02-04T03:12:05.262Z",
    "type": "completion"
   },
   {
    "code": "event_4e = np.arange(median_365 + 1)\n\nPlot(truncated_dist_M1, event=event_4e)\n\nplt.xlabel('$M_1$')\nplt.title('Event {$M_1 \\leq median$}');",
    "id": "59f34fa3ca944204aac24f6490a93ceb",
    "idx": 97,
    "time": "2021-02-04T03:12:07.926Z",
    "type": "execution"
   },
   {
    "code": "dist_M1.prob_event(event_4e)",
    "id": "11d0549d20ae40098e6dbd40829ccd69",
    "idx": 98,
    "time": "2021-02-04T03:12:08.260Z",
    "type": "execution"
   },
   {
    "id": "59f34fa3ca944204aac24f6490a93ceb",
    "time": "2021-02-04T03:12:08.555Z",
    "type": "completion"
   },
   {
    "id": "11d0549d20ae40098e6dbd40829ccd69",
    "time": "2021-02-04T03:12:08.561Z",
    "type": "completion"
   },
   {
    "code": "#solution\nN = 365 \n\n# Array of possible values of M2, in terms of N\n\npossible_vals_M2 = np.arange(3, N+3)",
    "id": "5799da833059458f8911fcf05134c49d",
    "idx": 105,
    "time": "2021-02-04T03:12:12.121Z",
    "type": "execution"
   },
   {
    "id": "5799da833059458f8911fcf05134c49d",
    "time": "2021-02-04T03:12:12.257Z",
    "type": "completion"
   },
   {
    "code": "#solution\n# P(M_1 = 15)\n\np_m1_15 = matching_time_probs.item(13)\n\n# P(M_1 = 15, M_2 = 20)\n\np_m1_15_m2_20 = p_m1_15 * ((365-14)/365) * ((365-15)/365) * ((365-16)/365) * ((365-17)/365) * (18/365)\n\np_m1_15, p_m1_15_m2_20",
    "id": "be2760922a734849822bd1f4924ae560",
    "idx": 108,
    "time": "2021-02-04T03:12:13.981Z",
    "type": "execution"
   },
   {
    "id": "be2760922a734849822bd1f4924ae560",
    "time": "2021-02-04T03:12:14.111Z",
    "type": "completion"
   },
   {
    "code": "#solution\ndef joint_probs(i, j):\n    N = 365\n    if j > i:\n        d = j-i\n        diffs = (N - np.arange(i-1, i-1 + d-1)) / N\n        return matching_time_probs.item(i-2) * np.prod(diffs) * (j-2)/N\n    else:\n        return 0",
    "id": "44106ceef2df46d8a76e64f468b240a8",
    "idx": 111,
    "time": "2021-02-04T03:12:16.154Z",
    "type": "execution"
   },
   {
    "id": "44106ceef2df46d8a76e64f468b240a8",
    "time": "2021-02-04T03:12:16.271Z",
    "type": "completion"
   },
   {
    "code": "joint_probs(20, 15), joint_probs(15, 20)",
    "id": "219416f6398742c993c5f1980e8027eb",
    "idx": 113,
    "time": "2021-02-04T03:12:18.502Z",
    "type": "execution"
   },
   {
    "id": "219416f6398742c993c5f1980e8027eb",
    "time": "2021-02-04T03:12:18.632Z",
    "type": "completion"
   },
   {
    "code": "#solution\na = 1/365\nb = 1/365**2\nc = 1/365**3\n\n# P(M_1 = 2, M_2 = 3)\np_M1_2_M2_3 = b              # enter one of a, b, c\n\np_M1_2_M2_3, joint_probs(2, 3)",
    "id": "e222759bc6304e7288e42fbbc523037e",
    "idx": 116,
    "time": "2021-02-04T03:12:20.790Z",
    "type": "execution"
   },
   {
    "id": "e222759bc6304e7288e42fbbc523037e",
    "time": "2021-02-04T03:12:20.931Z",
    "type": "completion"
   },
   {
    "code": "#solution\njt_M1_M2 = Table().values('M1', possible_vals_M1, 'M2', possible_vals_M2).probability_function(joint_probs)\njt_M1_M2",
    "id": "facdc080496c44898003308d7926588a",
    "idx": 119,
    "time": "2021-02-04T03:12:22.709Z",
    "type": "execution"
   },
   {
    "id": "facdc080496c44898003308d7926588a",
    "time": "2021-02-04T03:12:26.535Z",
    "type": "completion"
   },
   {
    "code": "marginal_M1 = jt_M1_M2.marginal_dist('M1')\n\nPlot(marginal_M1)\n\nplt.xlabel('$M_1$')\nplt.title('Distribution of $M_1$');",
    "id": "6a2f3786300d43b88dd42efb73bbcda9",
    "idx": 121,
    "time": "2021-02-04T03:12:29.870Z",
    "type": "execution"
   },
   {
    "id": "6a2f3786300d43b88dd42efb73bbcda9",
    "time": "2021-02-04T03:12:30.853Z",
    "type": "completion"
   },
   {
    "code": "#solution\nmarginal_M2 = jt_M1_M2.marginal_dist('M2')\n\nPlot(marginal_M2)\n\nplt.xlabel('$M_2$')\nplt.title('Distribution of $M_2$');",
    "id": "0f9d1b155bf54870b445624849e23799",
    "idx": 124,
    "time": "2021-02-04T03:12:33.091Z",
    "type": "execution"
   },
   {
    "id": "0f9d1b155bf54870b445624849e23799",
    "time": "2021-02-04T03:12:34.278Z",
    "type": "completion"
   },
   {
    "code": "Plot(truncated_dist_M1)\n\nplt.xlabel('$M_1$')\nplt.title('Distribution of $M_1$');",
    "id": "d6934aa1574a42cdadcbeab0250701f4",
    "idx": 126,
    "time": "2021-02-04T03:12:37.953Z",
    "type": "execution"
   },
   {
    "id": "d6934aa1574a42cdadcbeab0250701f4",
    "time": "2021-02-04T03:12:38.533Z",
    "type": "completion"
   },
   {
    "code": "marginal_M2 = jt_M1_M2.marginal_dist('M2')\nmarginal_M2",
    "id": "256c050ed2bb4238ae0488fec0df8b6e",
    "idx": 128,
    "time": "2021-02-04T03:12:38.761Z",
    "type": "execution"
   },
   {
    "id": "256c050ed2bb4238ae0488fec0df8b6e",
    "time": "2021-02-04T03:12:38.901Z",
    "type": "completion"
   },
   {
    "code": "truncated_dist_M2 = marginal_M2.take(np.arange(100))\nPlot(truncated_dist_M2)\n\nplt.xlabel('$M_2$')\nplt.title('Distribution of $M_2$');",
    "id": "91794372816c472e80b43c886634971f",
    "idx": 129,
    "time": "2021-02-04T03:12:39.691Z",
    "type": "execution"
   },
   {
    "id": "91794372816c472e80b43c886634971f",
    "time": "2021-02-04T03:12:40.305Z",
    "type": "completion"
   },
   {
    "code": "Plots('M1', truncated_dist_M1, 'M2', truncated_dist_M2)",
    "id": "9fb4908256414016b9d73da49dbcae00",
    "idx": 131,
    "time": "2021-02-04T03:12:41.586Z",
    "type": "execution"
   },
   {
    "id": "9fb4908256414016b9d73da49dbcae00",
    "time": "2021-02-04T03:12:42.281Z",
    "type": "completion"
   },
   {
    "code": "#solution\n# P(X = Y)\n\ndef indicator_equal(i, j):\n    return i == j-i\n\njt_M1_M2.event(indicator_equal, 'M1', 'M2');",
    "id": "9d6b760bc2234f4f9722ee7df31eb29c",
    "idx": 145,
    "time": "2021-02-04T03:12:49.152Z",
    "type": "execution"
   },
   {
    "code": "#solution\n# P(X > Y)\n\ndef indicator_X_greater(i, j):\n    return i > j-i\n\njt_M1_M2.event(indicator_X_greater, 'M1', 'M2');",
    "id": "98ce60111c044b14a0cd345a4827f05a",
    "idx": 146,
    "time": "2021-02-04T03:12:49.548Z",
    "type": "execution"
   },
   {
    "id": "9d6b760bc2234f4f9722ee7df31eb29c",
    "time": "2021-02-04T03:12:49.765Z",
    "type": "completion"
   },
   {
    "code": "#solution\n# P(X < Y)\n\ndef indicator_Y_greater(i, j):\n    return i < j-i\n\njt_M1_M2.event(indicator_Y_greater, 'M1', 'M2');",
    "id": "9797512ced324acb9acdcf8d6d3afd57",
    "idx": 147,
    "time": "2021-02-04T03:12:49.867Z",
    "type": "execution"
   },
   {
    "id": "98ce60111c044b14a0cd345a4827f05a",
    "time": "2021-02-04T03:12:51.737Z",
    "type": "completion"
   },
   {
    "id": "9797512ced324acb9acdcf8d6d3afd57",
    "time": "2021-02-04T03:12:51.974Z",
    "type": "completion"
   },
   {
    "code": "#solution\ntipping_point(2**32)",
    "id": "2c6accf0f1c44276822f9ce070b802d1",
    "idx": 57,
    "time": "2021-02-04T03:13:17.638Z",
    "type": "execution"
   },
   {
    "code": "# SETUP\n\n# These lines make warnings go away\nimport warnings\nwarnings.filterwarnings('ignore')\n\n# The main libraries\nimport numpy as np\nfrom datascience import *\nfrom prob140 import *\n\n# These lines do some fancy plotting magic\nimport matplotlib\n%matplotlib inline\nimport matplotlib.pyplot as plt\nplt.style.use('fivethirtyeight')",
    "id": "df92bca41d2a402ba0d2bf707b9dd4b5",
    "idx": 2,
    "time": "2021-02-04T03:13:43.645Z",
    "type": "execution"
   },
   {
    "id": "df92bca41d2a402ba0d2bf707b9dd4b5",
    "time": "2021-02-04T03:13:46.029Z",
    "type": "completion"
   },
   {
    "code": "N = 365",
    "id": "d956ddc998a9441ba6149ec6522332c0",
    "idx": 5,
    "time": "2021-02-04T03:13:46.982Z",
    "type": "execution"
   },
   {
    "id": "d956ddc998a9441ba6149ec6522332c0",
    "time": "2021-02-04T03:13:47.190Z",
    "type": "completion"
   },
   {
    "code": "n = 5\nindividuals = np.arange(n)\nindividuals",
    "id": "84b3cf42d97345b0b64ea90e2f92bede",
    "idx": 7,
    "time": "2021-02-04T03:13:48.993Z",
    "type": "execution"
   },
   {
    "id": "84b3cf42d97345b0b64ea90e2f92bede",
    "time": "2021-02-04T03:13:49.110Z",
    "type": "completion"
   },
   {
    "code": "N - individuals",
    "id": "ef8372bb248c437b8662976ac2dd9878",
    "idx": 8,
    "time": "2021-02-04T03:13:49.352Z",
    "type": "execution"
   },
   {
    "id": "ef8372bb248c437b8662976ac2dd9878",
    "time": "2021-02-04T03:13:49.481Z",
    "type": "completion"
   },
   {
    "code": "(N - individuals)/N",
    "id": "49099414a3ad4c3e837ba20381c1ec83",
    "idx": 9,
    "time": "2021-02-04T03:13:49.658Z",
    "type": "execution"
   },
   {
    "id": "49099414a3ad4c3e837ba20381c1ec83",
    "time": "2021-02-04T03:13:49.779Z",
    "type": "completion"
   },
   {
    "code": "np.prod( (N - individuals)/N )",
    "id": "27762ee6ec7d449d89a0ada36712ff0b",
    "idx": 10,
    "time": "2021-02-04T03:13:50.256Z",
    "type": "execution"
   },
   {
    "id": "27762ee6ec7d449d89a0ada36712ff0b",
    "time": "2021-02-04T03:13:50.367Z",
    "type": "completion"
   },
   {
    "code": "#solution\ndef p_no_match(n):\n    people = np.arange(n)\n    return np.prod( (N - people)/N )",
    "id": "5a341572b108489d8207b70ec8eef1b3",
    "idx": 13,
    "time": "2021-02-04T03:13:52.354Z",
    "type": "execution"
   },
   {
    "id": "5a341572b108489d8207b70ec8eef1b3",
    "time": "2021-02-04T03:13:52.481Z",
    "type": "completion"
   },
   {
    "code": "#solution\np_no_match(23)",
    "id": "e19d7d224e10452c8a2c14911714554a",
    "idx": 19,
    "time": "2021-02-04T03:13:55.589Z",
    "type": "execution"
   },
   {
    "id": "e19d7d224e10452c8a2c14911714554a",
    "time": "2021-02-04T03:13:55.717Z",
    "type": "completion"
   },
   {
    "code": "birthday_probs = Table().with_columns('People', np.arange(1, N+1))\nbirthday_probs",
    "id": "ad90d0e21c304899b505502975aa114a",
    "idx": 21,
    "time": "2021-02-04T03:13:58.414Z",
    "type": "execution"
   },
   {
    "id": "ad90d0e21c304899b505502975aa114a",
    "time": "2021-02-04T03:13:58.544Z",
    "type": "completion"
   },
   {
    "code": "#solution\nall_different = birthday_probs.apply(p_no_match, 0)",
    "id": "5b83f3c04b154ca081b4464803a0bfaa",
    "idx": 24,
    "time": "2021-02-04T03:14:05.000Z",
    "type": "execution"
   },
   {
    "id": "5b83f3c04b154ca081b4464803a0bfaa",
    "time": "2021-02-04T03:14:05.110Z",
    "type": "completion"
   },
   {
    "code": "#solution\nall_different.item(22)",
    "id": "543f46a9e1b34c718d7effdbad1fe28e",
    "idx": 27,
    "time": "2021-02-04T03:14:06.683Z",
    "type": "execution"
   },
   {
    "id": "543f46a9e1b34c718d7effdbad1fe28e",
    "time": "2021-02-04T03:14:06.815Z",
    "type": "completion"
   },
   {
    "code": "#solution\nbirthday_probs = birthday_probs.with_columns(\n    'P(no match)', all_different,\n    'P(at least one match)', 1 - all_different\n)\n\nbirthday_probs",
    "id": "ec783bfdb5a04c12999f4af3496870b7",
    "idx": 30,
    "time": "2021-02-04T03:14:08.897Z",
    "type": "execution"
   },
   {
    "id": "ec783bfdb5a04c12999f4af3496870b7",
    "time": "2021-02-04T03:14:09.011Z",
    "type": "completion"
   },
   {
    "code": "#solution\nbirthday_probs.scatter(0, 2)\n\n# Everything below this line is for fine-tuning the graphics.\n# There is nothing for you to enter below this line.\n\n# plt is short for matplotlib.pyplot; see the import cell at the top\n\nplt.xlim(0, 70)     # restrict trials to at most 70\n\nplt.ylim(0, 1)      # use the probability scale on the vertical axis\n\n# Draw a red horizontal line at level 1/2\n# plt.plot joins the dots between the two points (x_1, y_1) and (x_2, y_2)\n# Arguments: [x_1, x_2], [y_1, y_2] \n# Optional arguments: color=, and lw=\n# That last one is line width. Bigger values produce thicker lines.\n\nplt.plot([0, 70], [0.5, 0.5], color='red', lw=1);",
    "id": "93f1d01c2eaa4b11829828f54f9fe011",
    "idx": 34,
    "time": "2021-02-04T03:14:11.885Z",
    "type": "execution"
   },
   {
    "id": "93f1d01c2eaa4b11829828f54f9fe011",
    "time": "2021-02-04T03:14:12.312Z",
    "type": "completion"
   },
   {
    "code": "#solution\ndef tipping_point(N):\n    prob_no_match = 1\n    for n in range(2, N+1):\n        if prob_no_match > 0.5:\n            prob_no_match = prob_no_match * (N - (n-1))/N\n        else:\n            return n-1",
    "id": "868c0f8c813443a4856bc4189540b914",
    "idx": 46,
    "time": "2021-02-04T03:14:19.715Z",
    "type": "execution"
   },
   {
    "id": "868c0f8c813443a4856bc4189540b914",
    "time": "2021-02-04T03:14:19.865Z",
    "type": "completion"
   },
   {
    "code": "tipping_point(365)",
    "id": "8c8b8751f77f499cb5c1969903f440e5",
    "idx": 48,
    "time": "2021-02-04T03:14:21.363Z",
    "type": "execution"
   },
   {
    "id": "8c8b8751f77f499cb5c1969903f440e5",
    "time": "2021-02-04T03:14:21.495Z",
    "type": "completion"
   },
   {
    "code": "#solution\ntipping_point(687)",
    "id": "bbd4e88681ca483980a90012518158e6",
    "idx": 51,
    "time": "2021-02-04T03:14:23.426Z",
    "type": "execution"
   },
   {
    "id": "bbd4e88681ca483980a90012518158e6",
    "time": "2021-02-04T03:14:23.555Z",
    "type": "completion"
   },
   {
    "code": "#solution\ntipping_point(2**16)",
    "id": "2ab238ad03a044fd950268be53fe4430",
    "idx": 54,
    "time": "2021-02-04T03:14:25.036Z",
    "type": "execution"
   },
   {
    "id": "2ab238ad03a044fd950268be53fe4430",
    "time": "2021-02-04T03:14:25.153Z",
    "type": "completion"
   },
   {
    "code": "#solution\ntipping_point(2**32)",
    "id": "2c6accf0f1c44276822f9ce070b802d1",
    "idx": 57,
    "time": "2021-02-04T03:14:26.926Z",
    "type": "execution"
   },
   {
    "id": "2c6accf0f1c44276822f9ce070b802d1",
    "time": "2021-02-04T03:14:27.053Z",
    "type": "completion"
   },
   {
    "id": "2c6accf0f1c44276822f9ce070b802d1",
    "time": "2021-02-04T03:14:27.053Z",
    "type": "completion"
   },
   {
    "code": "#solution\ndef approx_tipping_point(N):\n    return np.ceil( (-2*N * np.log(0.5)) ** 0.5 )",
    "id": "2a8390867532435b8a550924314758ef",
    "idx": 61,
    "time": "2021-02-04T03:14:29.682Z",
    "type": "execution"
   },
   {
    "id": "2a8390867532435b8a550924314758ef",
    "time": "2021-02-04T03:14:29.860Z",
    "type": "completion"
   },
   {
    "code": "approx_tipping_point(365), approx_tipping_point(687), approx_tipping_point(2**16)",
    "id": "2fb24f6d52aa41bb863c57ec41081e5c",
    "idx": 63,
    "time": "2021-02-04T03:14:32.131Z",
    "type": "execution"
   },
   {
    "id": "2fb24f6d52aa41bb863c57ec41081e5c",
    "time": "2021-02-04T03:14:32.274Z",
    "type": "completion"
   },
   {
    "code": "#solution\napprox_tipping_point(2**128)",
    "id": "966d81c292a1470180df36014e5eb10e",
    "idx": 66,
    "time": "2021-02-04T03:14:34.131Z",
    "type": "execution"
   },
   {
    "id": "966d81c292a1470180df36014e5eb10e",
    "time": "2021-02-04T03:14:34.296Z",
    "type": "completion"
   },
   {
    "code": "#solution\nN = 365\n\n\"\"\" Distribution of M_1 \"\"\"\n\n# Array of possible values, in terms of N\npossible_vals_M1 = np.arange(2, N+2)\n\n# Carefully ... An array of the corresponding probabilities, in terms of N and the array all_different\nmatching_time_probs = np.append(-np.diff(all_different), all_different.item(N-1))",
    "id": "b8d098dbb5dd4b3e89f3d6b4c6f9eb42",
    "idx": 84,
    "time": "2021-02-04T03:14:42.481Z",
    "type": "execution"
   },
   {
    "id": "b8d098dbb5dd4b3e89f3d6b4c6f9eb42",
    "time": "2021-02-04T03:14:42.628Z",
    "type": "completion"
   },
   {
    "code": "len(possible_vals_M1), len(matching_time_probs), sum(matching_time_probs)",
    "id": "ef9d2c4a6b564ebaa536ac7273611262",
    "idx": 86,
    "time": "2021-02-04T03:14:43.650Z",
    "type": "execution"
   },
   {
    "id": "ef9d2c4a6b564ebaa536ac7273611262",
    "time": "2021-02-04T03:14:43.803Z",
    "type": "completion"
   },
   {
    "code": "#solution\ndist_M1 = Table().values(possible_vals_M1).probabilities(matching_time_probs)\n\nPlot(dist_M1)\n\n# labels\nplt.xlabel('$M_1$')\nplt.title('Distribution of $M_1$');",
    "id": "70ab310a571c4d5ab2815cb5e848f071",
    "idx": 89,
    "time": "2021-02-04T03:14:46.540Z",
    "type": "execution"
   },
   {
    "code": "truncated_dist_M1 = dist_M1.take(np.arange(100))\n\nPlot(truncated_dist_M1)\n\nplt.xlabel('$M_1$')\nplt.title('Distribution of $M_1$');",
    "id": "4b1b4e2789e94c518a638320785bf3f4",
    "idx": 91,
    "time": "2021-02-04T03:14:47.651Z",
    "type": "execution"
   },
   {
    "id": "70ab310a571c4d5ab2815cb5e848f071",
    "time": "2021-02-04T03:14:47.771Z",
    "type": "completion"
   },
   {
    "id": "4b1b4e2789e94c518a638320785bf3f4",
    "time": "2021-02-04T03:14:48.359Z",
    "type": "completion"
   },
   {
    "code": "#solution\n\"\"\"\nBy 4a, P(no matches among n people) = P(D_n) = P(M_1 > n).\nSo P(at least one match among n people) = 1 - P(D_n) = P(M_1 <= n).\nThat crosses 50% at n=23.\n\"\"\"\n\nmedian_365 = 23",
    "id": "1f15df369dd840308e6f706385831374",
    "idx": 95,
    "time": "2021-02-04T03:14:50.119Z",
    "type": "execution"
   },
   {
    "id": "1f15df369dd840308e6f706385831374",
    "time": "2021-02-04T03:14:50.249Z",
    "type": "completion"
   },
   {
    "code": "event_4e = np.arange(median_365 + 1)\n\nPlot(truncated_dist_M1, event=event_4e)\n\nplt.xlabel('$M_1$')\nplt.title('Event {$M_1 \\leq median$}');",
    "id": "59f34fa3ca944204aac24f6490a93ceb",
    "idx": 97,
    "time": "2021-02-04T03:14:52.790Z",
    "type": "execution"
   },
   {
    "id": "59f34fa3ca944204aac24f6490a93ceb",
    "time": "2021-02-04T03:14:53.364Z",
    "type": "completion"
   },
   {
    "code": "dist_M1.prob_event(event_4e)",
    "id": "11d0549d20ae40098e6dbd40829ccd69",
    "idx": 98,
    "time": "2021-02-04T03:14:53.871Z",
    "type": "execution"
   },
   {
    "id": "11d0549d20ae40098e6dbd40829ccd69",
    "time": "2021-02-04T03:14:54.022Z",
    "type": "completion"
   },
   {
    "code": "#solution\nN = 365 \n\n# Array of possible values of M2, in terms of N\n\npossible_vals_M2 = np.arange(3, N+3)",
    "id": "5799da833059458f8911fcf05134c49d",
    "idx": 105,
    "time": "2021-02-04T03:14:58.839Z",
    "type": "execution"
   },
   {
    "id": "5799da833059458f8911fcf05134c49d",
    "time": "2021-02-04T03:14:58.991Z",
    "type": "completion"
   },
   {
    "code": "#solution\n# P(M_1 = 15)\n\np_m1_15 = matching_time_probs.item(13)\n\n# P(M_1 = 15, M_2 = 20)\n\np_m1_15_m2_20 = p_m1_15 * ((365-14)/365) * ((365-15)/365) * ((365-16)/365) * ((365-17)/365) * (18/365)\n\np_m1_15, p_m1_15_m2_20",
    "id": "be2760922a734849822bd1f4924ae560",
    "idx": 108,
    "time": "2021-02-04T03:15:01.077Z",
    "type": "execution"
   },
   {
    "id": "be2760922a734849822bd1f4924ae560",
    "time": "2021-02-04T03:15:01.207Z",
    "type": "completion"
   },
   {
    "code": "#solution\ndef joint_probs(i, j):\n    N = 365\n    if j > i:\n        d = j-i\n        diffs = (N - np.arange(i-1, i-1 + d-1)) / N\n        return matching_time_probs.item(i-2) * np.prod(diffs) * (j-2)/N\n    else:\n        return 0",
    "id": "44106ceef2df46d8a76e64f468b240a8",
    "idx": 111,
    "time": "2021-02-04T03:15:03.366Z",
    "type": "execution"
   },
   {
    "id": "44106ceef2df46d8a76e64f468b240a8",
    "time": "2021-02-04T03:15:03.488Z",
    "type": "completion"
   },
   {
    "code": "joint_probs(20, 15), joint_probs(15, 20)",
    "id": "219416f6398742c993c5f1980e8027eb",
    "idx": 113,
    "time": "2021-02-04T03:15:06.012Z",
    "type": "execution"
   },
   {
    "id": "219416f6398742c993c5f1980e8027eb",
    "time": "2021-02-04T03:15:06.133Z",
    "type": "completion"
   },
   {
    "code": "#solution\na = 1/365\nb = 1/365**2\nc = 1/365**3\n\n# P(M_1 = 2, M_2 = 3)\np_M1_2_M2_3 = b              # enter one of a, b, c\n\np_M1_2_M2_3, joint_probs(2, 3)",
    "id": "e222759bc6304e7288e42fbbc523037e",
    "idx": 116,
    "time": "2021-02-04T03:15:07.966Z",
    "type": "execution"
   },
   {
    "id": "e222759bc6304e7288e42fbbc523037e",
    "time": "2021-02-04T03:15:08.103Z",
    "type": "completion"
   },
   {
    "code": "#solution\njt_M1_M2 = Table().values('M1', possible_vals_M1, 'M2', possible_vals_M2).probability_function(joint_probs)\njt_M1_M2",
    "id": "facdc080496c44898003308d7926588a",
    "idx": 119,
    "time": "2021-02-04T03:15:09.824Z",
    "type": "execution"
   },
   {
    "code": "marginal_M1 = jt_M1_M2.marginal_dist('M1')\n\nPlot(marginal_M1)\n\nplt.xlabel('$M_1$')\nplt.title('Distribution of $M_1$');",
    "id": "6a2f3786300d43b88dd42efb73bbcda9",
    "idx": 121,
    "time": "2021-02-04T03:15:12.344Z",
    "type": "execution"
   },
   {
    "id": "facdc080496c44898003308d7926588a",
    "time": "2021-02-04T03:15:14.093Z",
    "type": "completion"
   },
   {
    "code": "#solution\nmarginal_M2 = jt_M1_M2.marginal_dist('M2')\n\nPlot(marginal_M2)\n\nplt.xlabel('$M_2$')\nplt.title('Distribution of $M_2$');",
    "id": "0f9d1b155bf54870b445624849e23799",
    "idx": 124,
    "time": "2021-02-04T03:15:14.634Z",
    "type": "execution"
   },
   {
    "id": "6a2f3786300d43b88dd42efb73bbcda9",
    "time": "2021-02-04T03:15:15.490Z",
    "type": "completion"
   },
   {
    "code": "Plot(truncated_dist_M1)\n\nplt.xlabel('$M_1$')\nplt.title('Distribution of $M_1$');",
    "id": "d6934aa1574a42cdadcbeab0250701f4",
    "idx": 126,
    "time": "2021-02-04T03:15:16.136Z",
    "type": "execution"
   },
   {
    "id": "0f9d1b155bf54870b445624849e23799",
    "time": "2021-02-04T03:15:16.463Z",
    "type": "completion"
   },
   {
    "id": "d6934aa1574a42cdadcbeab0250701f4",
    "time": "2021-02-04T03:15:16.851Z",
    "type": "completion"
   },
   {
    "code": "marginal_M2 = jt_M1_M2.marginal_dist('M2')\nmarginal_M2",
    "id": "256c050ed2bb4238ae0488fec0df8b6e",
    "idx": 128,
    "time": "2021-02-04T03:15:19.523Z",
    "type": "execution"
   },
   {
    "id": "256c050ed2bb4238ae0488fec0df8b6e",
    "time": "2021-02-04T03:15:19.662Z",
    "type": "completion"
   },
   {
    "code": "truncated_dist_M2 = marginal_M2.take(np.arange(100))\nPlot(truncated_dist_M2)\n\nplt.xlabel('$M_2$')\nplt.title('Distribution of $M_2$');",
    "id": "91794372816c472e80b43c886634971f",
    "idx": 129,
    "time": "2021-02-04T03:15:19.872Z",
    "type": "execution"
   },
   {
    "id": "91794372816c472e80b43c886634971f",
    "time": "2021-02-04T03:15:20.470Z",
    "type": "completion"
   },
   {
    "code": "Plots('M1', truncated_dist_M1, 'M2', truncated_dist_M2)",
    "id": "9fb4908256414016b9d73da49dbcae00",
    "idx": 131,
    "time": "2021-02-04T03:15:23.224Z",
    "type": "execution"
   },
   {
    "id": "9fb4908256414016b9d73da49dbcae00",
    "time": "2021-02-04T03:15:24.009Z",
    "type": "completion"
   },
   {
    "code": "#solution\n# P(X = Y)\n\ndef indicator_equal(i, j):\n    return i == j-i\n\njt_M1_M2.event(indicator_equal, 'M1', 'M2');",
    "id": "9d6b760bc2234f4f9722ee7df31eb29c",
    "idx": 145,
    "time": "2021-02-04T03:15:29.467Z",
    "type": "execution"
   },
   {
    "code": "#solution\n# P(X > Y)\n\ndef indicator_X_greater(i, j):\n    return i > j-i\n\njt_M1_M2.event(indicator_X_greater, 'M1', 'M2');",
    "id": "98ce60111c044b14a0cd345a4827f05a",
    "idx": 146,
    "time": "2021-02-04T03:15:29.830Z",
    "type": "execution"
   },
   {
    "id": "9d6b760bc2234f4f9722ee7df31eb29c",
    "time": "2021-02-04T03:15:30.000Z",
    "type": "completion"
   },
   {
    "code": "#solution\n# P(X < Y)\n\ndef indicator_Y_greater(i, j):\n    return i < j-i\n\njt_M1_M2.event(indicator_Y_greater, 'M1', 'M2');",
    "id": "9797512ced324acb9acdcf8d6d3afd57",
    "idx": 147,
    "time": "2021-02-04T03:15:30.139Z",
    "type": "execution"
   },
   {
    "id": "98ce60111c044b14a0cd345a4827f05a",
    "time": "2021-02-04T03:15:31.815Z",
    "type": "completion"
   },
   {
    "id": "9797512ced324acb9acdcf8d6d3afd57",
    "time": "2021-02-04T03:15:32.299Z",
    "type": "completion"
   }
  ],
  "kernelspec": {
   "display_name": "Python 3 (ipykernel)",
   "language": "python",
   "name": "python3"
  },
  "language_info": {
   "codemirror_mode": {
    "name": "ipython",
    "version": 3
   },
   "file_extension": ".py",
   "mimetype": "text/x-python",
   "name": "python",
   "nbconvert_exporter": "python",
   "pygments_lexer": "ipython3",
   "version": "3.10.1"
  },
  "number_of_pagebreaks": 1,
  "widgets": {
   "application/vnd.jupyter.widget-state+json": {
    "state": {},
    "version_major": 2,
    "version_minor": 0
   }
  }
 },
 "nbformat": 4,
 "nbformat_minor": 4
}
